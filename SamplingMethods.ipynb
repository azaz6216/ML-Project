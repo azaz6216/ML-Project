{
  "cells": [
    {
      "cell_type": "markdown",
      "id": "483bf4cb-8ace-4280-8d66-fd9dedb9bcd6",
      "metadata": {
        "id": "483bf4cb-8ace-4280-8d66-fd9dedb9bcd6"
      },
      "source": [
        "# Sampling Methods\n",
        "## 1. Simple Random Sampling\n",
        "## 2. Cluster Sampling\n"
      ]
    },
    {
      "cell_type": "markdown",
      "id": "9f0873f5-f17a-4a19-a313-ebf2bb7e4695",
      "metadata": {
        "id": "9f0873f5-f17a-4a19-a313-ebf2bb7e4695"
      },
      "source": [
        "## Task 1:Simple Random Sampling (SRS)"
      ]
    },
    {
      "cell_type": "markdown",
      "id": "b36425fc-90f1-450d-bb1e-8d93b3049051",
      "metadata": {
        "id": "b36425fc-90f1-450d-bb1e-8d93b3049051"
      },
      "source": [
        "### Select a sample of size 100 using SRS.\n",
        "### Compare the mean and variance of a numerical variable between the sample and the population."
      ]
    },
    {
      "cell_type": "markdown",
      "id": "1265e011-214e-469c-858f-969578a708a5",
      "metadata": {
        "id": "1265e011-214e-469c-858f-969578a708a5"
      },
      "source": [
        "## Datasets:  Load a dataset from an online source (Bank Marketing Dataset from UCI repository)\n",
        "### https://archive.ics.uci.edu/dataset/222/bank+marketing"
      ]
    },
    {
      "cell_type": "code",
      "execution_count": null,
      "id": "2a5b53e0-8638-486b-823a-ee2bd76ec05c",
      "metadata": {
        "id": "2a5b53e0-8638-486b-823a-ee2bd76ec05c",
        "outputId": "853746be-dc25-4956-b78e-395b6d087a0b"
      },
      "outputs": [
        {
          "name": "stdout",
          "output_type": "stream",
          "text": [
            "<class 'pandas.core.frame.DataFrame'>\n",
            "RangeIndex: 4521 entries, 0 to 4520\n",
            "Data columns (total 17 columns):\n",
            " #   Column     Non-Null Count  Dtype \n",
            "---  ------     --------------  ----- \n",
            " 0   age        4521 non-null   int64 \n",
            " 1   job        4521 non-null   object\n",
            " 2   marital    4521 non-null   object\n",
            " 3   education  4521 non-null   object\n",
            " 4   default    4521 non-null   object\n",
            " 5   balance    4521 non-null   int64 \n",
            " 6   housing    4521 non-null   object\n",
            " 7   loan       4521 non-null   object\n",
            " 8   contact    4521 non-null   object\n",
            " 9   day        4521 non-null   int64 \n",
            " 10  month      4521 non-null   object\n",
            " 11  duration   4521 non-null   int64 \n",
            " 12  campaign   4521 non-null   int64 \n",
            " 13  pdays      4521 non-null   int64 \n",
            " 14  previous   4521 non-null   int64 \n",
            " 15  poutcome   4521 non-null   object\n",
            " 16  y          4521 non-null   object\n",
            "dtypes: int64(7), object(10)\n",
            "memory usage: 600.6+ KB\n"
          ]
        }
      ],
      "source": [
        "import pandas as pd\n",
        "import matplotlib.pyplot as plt\n",
        "data=pd.read_csv(r\"C:\\Users\\User\\Downloads\\bank.csv\",sep=';')\n",
        "data.info()\n"
      ]
    },
    {
      "cell_type": "code",
      "execution_count": null,
      "id": "1b07cbd2-a300-4853-a327-a6a7e77919bd",
      "metadata": {
        "id": "1b07cbd2-a300-4853-a327-a6a7e77919bd"
      },
      "outputs": [],
      "source": [
        "\n",
        "\n",
        "numerical_df_population = data.select_dtypes(include='number')\n",
        "mean_value_population=numerical_df_population.mean()\n",
        "variance_value_population=numerical_df_population.var()\n"
      ]
    },
    {
      "cell_type": "code",
      "execution_count": null,
      "id": "f20de922",
      "metadata": {
        "id": "f20de922",
        "outputId": "02c609ed-5d26-42e5-9abc-cf8c9775eb9f"
      },
      "outputs": [
        {
          "name": "stdout",
          "output_type": "stream",
          "text": [
            "Population Mean \n",
            " age           41.170095\n",
            "balance     1422.657819\n",
            "day           15.915284\n",
            "duration     263.961292\n",
            "campaign       2.793630\n",
            "pdays         39.766645\n",
            "previous       0.542579\n",
            "dtype: float64 \n",
            "\n",
            "Population Variance \n",
            " age         1.118562e+02\n",
            "balance     9.057922e+06\n",
            "day         6.802402e+01\n",
            "duration    6.752547e+04\n",
            "campaign    9.670897e+00\n",
            "pdays       1.002424e+04\n",
            "previous    2.868153e+00\n",
            "dtype: float64\n"
          ]
        }
      ],
      "source": [
        "print(\"Population Mean \\n\",mean_value_population,'\\n')\n",
        "print(\"Population Variance \\n\",variance_value_population)"
      ]
    },
    {
      "cell_type": "code",
      "execution_count": null,
      "id": "09f8010f-ea43-44ba-bf2a-9714470009c8",
      "metadata": {
        "id": "09f8010f-ea43-44ba-bf2a-9714470009c8"
      },
      "outputs": [],
      "source": [
        "sample_df=data.sample(n=100,random_state=1)\n",
        "numerical_df_sample = sample_df.select_dtypes(include='number')\n",
        "mean_value_sample=numerical_df_sample.mean()\n",
        "variance_value_sample=numerical_df_sample.var()"
      ]
    },
    {
      "cell_type": "code",
      "execution_count": null,
      "id": "2c4afa07",
      "metadata": {
        "id": "2c4afa07",
        "outputId": "fa980833-283e-4a6c-b2be-d1ceeec6c041"
      },
      "outputs": [
        {
          "name": "stdout",
          "output_type": "stream",
          "text": [
            "Sample Mean \n",
            " age           41.20\n",
            "balance     1282.72\n",
            "day           15.33\n",
            "duration     267.94\n",
            "campaign       2.61\n",
            "pdays         56.63\n",
            "previous       0.79\n",
            "dtype: float64 \n",
            "\n",
            "Sample Variance \n",
            " age         9.505051e+01\n",
            "balance     2.860546e+06\n",
            "day         6.486980e+01\n",
            "duration    6.646519e+04\n",
            "campaign    5.856465e+00\n",
            "pdays       1.303856e+04\n",
            "previous    3.076667e+00\n",
            "dtype: float64\n"
          ]
        }
      ],
      "source": [
        "print(\"Sample Mean \\n\",mean_value_sample,'\\n')\n",
        "print(\"Sample Variance \\n\",variance_value_sample)"
      ]
    },
    {
      "cell_type": "markdown",
      "id": "d7becf8b-afd3-4fa3-bdc4-e6cc75ecefdf",
      "metadata": {
        "id": "d7becf8b-afd3-4fa3-bdc4-e6cc75ecefdf"
      },
      "source": [
        "## Task 2: Cluster Sampling"
      ]
    },
    {
      "cell_type": "markdown",
      "id": "06b4065d-1a75-4abb-8bbe-1c65708ea89b",
      "metadata": {
        "id": "06b4065d-1a75-4abb-8bbe-1c65708ea89b"
      },
      "source": [
        "## Divide the data into clusters based on a categorical variable.\n",
        "## Randomly select 3 clusters and take all the data points from those clusters.\n",
        "## Compare the summary statistics (mean, median, etc.) between the sample and the population."
      ]
    },
    {
      "cell_type": "markdown",
      "id": "ebe4043b",
      "metadata": {
        "id": "ebe4043b"
      },
      "source": [
        "Clustering based on job"
      ]
    },
    {
      "cell_type": "code",
      "execution_count": null,
      "id": "ed46f97b-d2b9-4aa6-a013-fe64f8d2c420",
      "metadata": {
        "id": "ed46f97b-d2b9-4aa6-a013-fe64f8d2c420",
        "outputId": "764fb91e-cbec-46fd-ba79-cdd1daa31af8"
      },
      "outputs": [
        {
          "data": {
            "text/plain": [
              "Index(['job', 'marital', 'education', 'default', 'housing', 'loan', 'contact',\n",
              "       'month', 'poutcome', 'y'],\n",
              "      dtype='object')"
            ]
          },
          "execution_count": 16,
          "metadata": {},
          "output_type": "execute_result"
        }
      ],
      "source": [
        "categorical_columns = data.select_dtypes(include=['object', 'category']).columns\n",
        "categorical_columns"
      ]
    },
    {
      "cell_type": "code",
      "execution_count": null,
      "id": "001f7924-520a-4466-bdfb-aaaa44ffb8fb",
      "metadata": {
        "id": "001f7924-520a-4466-bdfb-aaaa44ffb8fb"
      },
      "outputs": [],
      "source": [
        "clusters=data.groupby('job')"
      ]
    },
    {
      "cell_type": "code",
      "execution_count": null,
      "id": "45ceaca2-f4ef-43de-9b61-abe25c11971c",
      "metadata": {
        "id": "45ceaca2-f4ef-43de-9b61-abe25c11971c",
        "outputId": "e87bf657-de89-4cf1-c406-99b1663db30d"
      },
      "outputs": [
        {
          "name": "stdout",
          "output_type": "stream",
          "text": [
            "['unemployed' 'technician' 'admin.']\n"
          ]
        }
      ],
      "source": [
        "import numpy as np\n",
        "np.random.seed(42)\n",
        "cluster_keys = list(clusters.groups.keys())\n",
        "selected_clusters = np.random.choice(cluster_keys, size=3, replace=False)\n",
        "print(selected_clusters)"
      ]
    },
    {
      "cell_type": "code",
      "execution_count": null,
      "id": "58788c83-c6e7-44d2-b57d-3e6f6b277fcd",
      "metadata": {
        "id": "58788c83-c6e7-44d2-b57d-3e6f6b277fcd"
      },
      "outputs": [],
      "source": [
        "cluster_sample = pd.concat([clusters.get_group(cluster) for cluster in selected_clusters])\n",
        "cluster_sample_numerical=cluster_sample.select_dtypes('number')"
      ]
    },
    {
      "cell_type": "code",
      "execution_count": null,
      "id": "aca8ad5c-38ee-407d-a7f4-1658b3b14460",
      "metadata": {
        "id": "aca8ad5c-38ee-407d-a7f4-1658b3b14460",
        "outputId": "cb55bfef-2b56-4909-aac4-c5bd3c166414"
      },
      "outputs": [
        {
          "name": "stdout",
          "output_type": "stream",
          "text": [
            "Mean of Population\n",
            "age           41.170095\n",
            "balance     1422.657819\n",
            "day           15.915284\n",
            "duration     263.961292\n",
            "campaign       2.793630\n",
            "pdays         39.766645\n",
            "previous       0.542579\n",
            "dtype: float64\n",
            "\n",
            "\n",
            "Median of Population\n",
            "age          39.0\n",
            "balance     444.0\n",
            "day          16.0\n",
            "duration    185.0\n",
            "campaign      2.0\n",
            "pdays        -1.0\n",
            "previous      0.0\n",
            "dtype: float64\n",
            "\n",
            "\n",
            "Mode of Population\n",
            "   age  balance  day  duration  campaign  pdays  previous\n",
            "0   34        0   20       123         1     -1         0\n",
            "\n",
            "\n",
            "Variance of Population\n",
            "age         1.118562e+02\n",
            "balance     9.057922e+06\n",
            "day         6.802402e+01\n",
            "duration    6.752547e+04\n",
            "campaign    9.670897e+00\n",
            "pdays       1.002424e+04\n",
            "previous    2.868153e+00\n",
            "dtype: float64\n"
          ]
        }
      ],
      "source": [
        "print(\"Mean of Population\")\n",
        "print(numerical_df_population.mean())\n",
        "print('\\n')\n",
        "print(\"Median of Population\")\n",
        "print(numerical_df_population.median())\n",
        "print('\\n')\n",
        "print(\"Mode of Population\")\n",
        "print(numerical_df_population.mode())\n",
        "print('\\n')\n",
        "print(\"Variance of Population\")\n",
        "print(numerical_df_population.var())"
      ]
    },
    {
      "cell_type": "code",
      "execution_count": null,
      "id": "53203fdb-6d03-4487-8485-cba35461a712",
      "metadata": {
        "id": "53203fdb-6d03-4487-8485-cba35461a712",
        "outputId": "513e8330-c7c2-4b2a-8dc5-b30e3af1c957"
      },
      "outputs": [
        {
          "name": "stdout",
          "output_type": "stream",
          "text": [
            "Mean of Cluster Sample\n",
            "age           39.677584\n",
            "balance     1272.220524\n",
            "day           16.224163\n",
            "duration     250.660116\n",
            "campaign       2.692140\n",
            "pdays         42.751820\n",
            "previous       0.591703\n",
            "dtype: float64\n",
            "\n",
            "\n",
            "Median of Cluster Sample\n",
            "age          38.0\n",
            "balance     435.0\n",
            "day          16.0\n",
            "duration    176.0\n",
            "campaign      2.0\n",
            "pdays        -1.0\n",
            "previous      0.0\n",
            "dtype: float64\n",
            "\n",
            "\n",
            "Mode of Cluster Sample\n",
            "   age  balance  day  duration  campaign  pdays  previous\n",
            "0   34        0   20        77         1     -1         0\n",
            "\n",
            "\n",
            "Variance of Cluster Sample\n",
            "age         8.196808e+01\n",
            "balance     6.086987e+06\n",
            "day         7.093733e+01\n",
            "duration    6.507302e+04\n",
            "campaign    7.924818e+00\n",
            "pdays       1.038957e+04\n",
            "previous    2.844826e+00\n",
            "dtype: float64\n"
          ]
        }
      ],
      "source": [
        "print(\"Mean of Cluster Sample\")\n",
        "print(cluster_sample_numerical.mean())\n",
        "print('\\n')\n",
        "print(\"Median of Cluster Sample\")\n",
        "print(cluster_sample_numerical.median())\n",
        "print('\\n')\n",
        "print(\"Mode of Cluster Sample\")\n",
        "print(cluster_sample_numerical.mode())\n",
        "print('\\n')\n",
        "print(\"Variance of Cluster Sample\")\n",
        "print(cluster_sample_numerical.var())"
      ]
    },
    {
      "cell_type": "markdown",
      "id": "c73c044d-1a06-4f68-902a-7aa65382feb4",
      "metadata": {
        "id": "c73c044d-1a06-4f68-902a-7aa65382feb4"
      },
      "source": [
        "## Summarize the results for each sampling method\n"
      ]
    },
    {
      "cell_type": "markdown",
      "id": "b2a35071-1d65-4e16-899a-036594522a4f",
      "metadata": {
        "id": "b2a35071-1d65-4e16-899a-036594522a4f"
      },
      "source": [
        "## Result for Task 1"
      ]
    },
    {
      "cell_type": "code",
      "execution_count": null,
      "id": "cf31ef60-1c8b-4248-8c2b-12c140b82de2",
      "metadata": {
        "id": "cf31ef60-1c8b-4248-8c2b-12c140b82de2",
        "outputId": "e90733f7-c1e0-4dd4-bd0b-58a4fe4ee222"
      },
      "outputs": [
        {
          "data": {
            "image/png": "[encoded data removed]",
            "text/plain": [
              "<Figure size 1500x600 with 1 Axes>"
            ]
          },
          "metadata": {},
          "output_type": "display_data"
        }
      ],
      "source": [
        "\n",
        "bar_width = 0.35\n",
        "\n",
        "r1 = np.arange(len(mean_value_population))\n",
        "r2 = r1 + bar_width\n",
        "\n",
        "fig, ax = plt.subplots(figsize=(15, 6))\n",
        "\n",
        "bars1 = ax.bar(r1, mean_value_population, color='skyblue', width=bar_width, label='Population Numerical Variable Mean')\n",
        "bars2 = ax.bar(r2, mean_value_sample, color='salmon', width=bar_width, label='Sample Numerical Variable Mean')\n",
        "\n",
        "\n",
        "ax.set_xlabel('Numerical Variable of Population and Sample')\n",
        "ax.set_ylabel('Mean Value')\n",
        "ax.set_title('Comparison of Population and Sample Numerical Variable Mean Values')\n",
        "ax.set_xticks(r1 + bar_width / 2)\n",
        "ax.set_xticklabels(mean_value_population.index)\n",
        "ax.legend()\n",
        "\n",
        "\n",
        "for bar in bars1:\n",
        "    height = bar.get_height()\n",
        "    ax.text(bar.get_x() + bar.get_width() / 2, height, f'{height:.2f}', ha='center', va='bottom')\n",
        "\n",
        "for bar in bars2:\n",
        "    height = bar.get_height()\n",
        "    ax.text(bar.get_x() + bar.get_width() / 2, height, f'{height:.2f}', ha='center', va='bottom')\n",
        "\n",
        "\n",
        "plt.show()\n"
      ]
    },
    {
      "cell_type": "code",
      "execution_count": null,
      "id": "5aeab4cc-8194-4049-a274-493cec67d85e",
      "metadata": {
        "id": "5aeab4cc-8194-4049-a274-493cec67d85e",
        "outputId": "ef0b3c43-a697-43b5-b632-14a4024daf11"
      },
      "outputs": [
        {
          "data": {
            "image/png": "[encoded data removed]",
            "text/plain": [
              "<Figure size 2000x600 with 1 Axes>"
            ]
          },
          "metadata": {},
          "output_type": "display_data"
        }
      ],
      "source": [
        "bar_width = 0.35\n",
        "\n",
        "r1 = np.arange(len(variance_value_population))\n",
        "r2 = r1 + bar_width\n",
        "\n",
        "fig, ax = plt.subplots(figsize=(20, 6))\n",
        "\n",
        "bars1 = ax.bar(r1, variance_value_population, color='red', width=bar_width, label='Population Numerical Variable Variance')\n",
        "bars2 = ax.bar(r2, variance_value_sample, color='green', width=bar_width, label='Sample Numerical Variable Variance')\n",
        "\n",
        "\n",
        "ax.set_xlabel('Numerical Variable of Population and Sample')\n",
        "ax.set_ylabel('Variance Value')\n",
        "ax.set_title('Comparison of Population and Sample Numerical Variable Variance Values')\n",
        "ax.set_xticks(r1 + bar_width / 2)\n",
        "ax.set_xticklabels(mean_value_population.index)\n",
        "ax.legend()\n",
        "\n",
        "\n",
        "for bar in bars1:\n",
        "    height = bar.get_height()\n",
        "    ax.text(bar.get_x() + bar.get_width() / 2, height, f'{height:.2f}', ha='center', va='bottom')\n",
        "\n",
        "for bar in bars2:\n",
        "    height = bar.get_height()\n",
        "    ax.text(bar.get_x() + bar.get_width() / 2, height, f'{height:.2f}', ha='center', va='bottom')\n",
        "\n",
        "\n",
        "plt.show()\n"
      ]
    },
    {
      "cell_type": "markdown",
      "id": "2ae99f15-85ed-49cd-a0cc-c34adccff6e5",
      "metadata": {
        "id": "2ae99f15-85ed-49cd-a0cc-c34adccff6e5"
      },
      "source": [
        "## Result for Task 2"
      ]
    },
    {
      "cell_type": "code",
      "execution_count": null,
      "id": "2e654696-64db-4daa-bd3d-9d3405bc40c2",
      "metadata": {
        "id": "2e654696-64db-4daa-bd3d-9d3405bc40c2",
        "outputId": "25329069-6baf-4c1e-af4e-8fb1a0fa02c8"
      },
      "outputs": [
        {
          "data": {
            "text/html": [
              "<div>\n",
              "<style scoped>\n",
              "    .dataframe tbody tr th:only-of-type {\n",
              "        vertical-align: middle;\n",
              "    }\n",
              "\n",
              "    .dataframe tbody tr th {\n",
              "        vertical-align: top;\n",
              "    }\n",
              "\n",
              "    .dataframe thead th {\n",
              "        text-align: right;\n",
              "    }\n",
              "</style>\n",
              "<table border=\"1\" class=\"dataframe\">\n",
              "  <thead>\n",
              "    <tr style=\"text-align: right;\">\n",
              "      <th></th>\n",
              "      <th>age</th>\n",
              "      <th>balance</th>\n",
              "      <th>day</th>\n",
              "      <th>duration</th>\n",
              "      <th>campaign</th>\n",
              "      <th>pdays</th>\n",
              "      <th>previous</th>\n",
              "    </tr>\n",
              "  </thead>\n",
              "  <tbody>\n",
              "    <tr>\n",
              "      <th>count</th>\n",
              "      <td>4521.000000</td>\n",
              "      <td>4521.000000</td>\n",
              "      <td>4521.000000</td>\n",
              "      <td>4521.000000</td>\n",
              "      <td>4521.000000</td>\n",
              "      <td>4521.000000</td>\n",
              "      <td>4521.000000</td>\n",
              "    </tr>\n",
              "    <tr>\n",
              "      <th>mean</th>\n",
              "      <td>41.170095</td>\n",
              "      <td>1422.657819</td>\n",
              "      <td>15.915284</td>\n",
              "      <td>263.961292</td>\n",
              "      <td>2.793630</td>\n",
              "      <td>39.766645</td>\n",
              "      <td>0.542579</td>\n",
              "    </tr>\n",
              "    <tr>\n",
              "      <th>std</th>\n",
              "      <td>10.576211</td>\n",
              "      <td>3009.638142</td>\n",
              "      <td>8.247667</td>\n",
              "      <td>259.856633</td>\n",
              "      <td>3.109807</td>\n",
              "      <td>100.121124</td>\n",
              "      <td>1.693562</td>\n",
              "    </tr>\n",
              "    <tr>\n",
              "      <th>min</th>\n",
              "      <td>19.000000</td>\n",
              "      <td>-3313.000000</td>\n",
              "      <td>1.000000</td>\n",
              "      <td>4.000000</td>\n",
              "      <td>1.000000</td>\n",
              "      <td>-1.000000</td>\n",
              "      <td>0.000000</td>\n",
              "    </tr>\n",
              "    <tr>\n",
              "      <th>25%</th>\n",
              "      <td>33.000000</td>\n",
              "      <td>69.000000</td>\n",
              "      <td>9.000000</td>\n",
              "      <td>104.000000</td>\n",
              "      <td>1.000000</td>\n",
              "      <td>-1.000000</td>\n",
              "      <td>0.000000</td>\n",
              "    </tr>\n",
              "    <tr>\n",
              "      <th>50%</th>\n",
              "      <td>39.000000</td>\n",
              "      <td>444.000000</td>\n",
              "      <td>16.000000</td>\n",
              "      <td>185.000000</td>\n",
              "      <td>2.000000</td>\n",
              "      <td>-1.000000</td>\n",
              "      <td>0.000000</td>\n",
              "    </tr>\n",
              "    <tr>\n",
              "      <th>75%</th>\n",
              "      <td>49.000000</td>\n",
              "      <td>1480.000000</td>\n",
              "      <td>21.000000</td>\n",
              "      <td>329.000000</td>\n",
              "      <td>3.000000</td>\n",
              "      <td>-1.000000</td>\n",
              "      <td>0.000000</td>\n",
              "    </tr>\n",
              "    <tr>\n",
              "      <th>max</th>\n",
              "      <td>87.000000</td>\n",
              "      <td>71188.000000</td>\n",
              "      <td>31.000000</td>\n",
              "      <td>3025.000000</td>\n",
              "      <td>50.000000</td>\n",
              "      <td>871.000000</td>\n",
              "      <td>25.000000</td>\n",
              "    </tr>\n",
              "  </tbody>\n",
              "</table>\n",
              "</div>"
            ],
            "text/plain": [
              "               age       balance          day     duration     campaign  \\\n",
              "count  4521.000000   4521.000000  4521.000000  4521.000000  4521.000000   \n",
              "mean     41.170095   1422.657819    15.915284   263.961292     2.793630   \n",
              "std      10.576211   3009.638142     8.247667   259.856633     3.109807   \n",
              "min      19.000000  -3313.000000     1.000000     4.000000     1.000000   \n",
              "25%      33.000000     69.000000     9.000000   104.000000     1.000000   \n",
              "50%      39.000000    444.000000    16.000000   185.000000     2.000000   \n",
              "75%      49.000000   1480.000000    21.000000   329.000000     3.000000   \n",
              "max      87.000000  71188.000000    31.000000  3025.000000    50.000000   \n",
              "\n",
              "             pdays     previous  \n",
              "count  4521.000000  4521.000000  \n",
              "mean     39.766645     0.542579  \n",
              "std     100.121124     1.693562  \n",
              "min      -1.000000     0.000000  \n",
              "25%      -1.000000     0.000000  \n",
              "50%      -1.000000     0.000000  \n",
              "75%      -1.000000     0.000000  \n",
              "max     871.000000    25.000000  "
            ]
          },
          "execution_count": 24,
          "metadata": {},
          "output_type": "execute_result"
        }
      ],
      "source": [
        "data.describe()"
      ]
    },
    {
      "cell_type": "code",
      "execution_count": null,
      "id": "cd4e9d1e-b0a8-4914-93e6-1acb37c58abd",
      "metadata": {
        "id": "cd4e9d1e-b0a8-4914-93e6-1acb37c58abd",
        "outputId": "7f57bbf3-5318-4fa3-daad-ab05fe04b59b"
      },
      "outputs": [
        {
          "data": {
            "text/html": [
              "<div>\n",
              "<style scoped>\n",
              "    .dataframe tbody tr th:only-of-type {\n",
              "        vertical-align: middle;\n",
              "    }\n",
              "\n",
              "    .dataframe tbody tr th {\n",
              "        vertical-align: top;\n",
              "    }\n",
              "\n",
              "    .dataframe thead th {\n",
              "        text-align: right;\n",
              "    }\n",
              "</style>\n",
              "<table border=\"1\" class=\"dataframe\">\n",
              "  <thead>\n",
              "    <tr style=\"text-align: right;\">\n",
              "      <th></th>\n",
              "      <th>age</th>\n",
              "      <th>balance</th>\n",
              "      <th>day</th>\n",
              "      <th>duration</th>\n",
              "      <th>campaign</th>\n",
              "      <th>pdays</th>\n",
              "      <th>previous</th>\n",
              "    </tr>\n",
              "  </thead>\n",
              "  <tbody>\n",
              "    <tr>\n",
              "      <th>count</th>\n",
              "      <td>1374.000000</td>\n",
              "      <td>1374.000000</td>\n",
              "      <td>1374.000000</td>\n",
              "      <td>1374.000000</td>\n",
              "      <td>1374.000000</td>\n",
              "      <td>1374.000000</td>\n",
              "      <td>1374.000000</td>\n",
              "    </tr>\n",
              "    <tr>\n",
              "      <th>mean</th>\n",
              "      <td>39.677584</td>\n",
              "      <td>1272.220524</td>\n",
              "      <td>16.224163</td>\n",
              "      <td>250.660116</td>\n",
              "      <td>2.692140</td>\n",
              "      <td>42.751820</td>\n",
              "      <td>0.591703</td>\n",
              "    </tr>\n",
              "    <tr>\n",
              "      <th>std</th>\n",
              "      <td>9.053622</td>\n",
              "      <td>2467.182003</td>\n",
              "      <td>8.422430</td>\n",
              "      <td>255.094148</td>\n",
              "      <td>2.815105</td>\n",
              "      <td>101.929243</td>\n",
              "      <td>1.686661</td>\n",
              "    </tr>\n",
              "    <tr>\n",
              "      <th>min</th>\n",
              "      <td>22.000000</td>\n",
              "      <td>-1680.000000</td>\n",
              "      <td>1.000000</td>\n",
              "      <td>5.000000</td>\n",
              "      <td>1.000000</td>\n",
              "      <td>-1.000000</td>\n",
              "      <td>0.000000</td>\n",
              "    </tr>\n",
              "    <tr>\n",
              "      <th>25%</th>\n",
              "      <td>32.000000</td>\n",
              "      <td>61.250000</td>\n",
              "      <td>9.000000</td>\n",
              "      <td>100.000000</td>\n",
              "      <td>1.000000</td>\n",
              "      <td>-1.000000</td>\n",
              "      <td>0.000000</td>\n",
              "    </tr>\n",
              "    <tr>\n",
              "      <th>50%</th>\n",
              "      <td>38.000000</td>\n",
              "      <td>435.000000</td>\n",
              "      <td>16.000000</td>\n",
              "      <td>176.000000</td>\n",
              "      <td>2.000000</td>\n",
              "      <td>-1.000000</td>\n",
              "      <td>0.000000</td>\n",
              "    </tr>\n",
              "    <tr>\n",
              "      <th>75%</th>\n",
              "      <td>46.000000</td>\n",
              "      <td>1411.500000</td>\n",
              "      <td>22.000000</td>\n",
              "      <td>298.750000</td>\n",
              "      <td>3.000000</td>\n",
              "      <td>-1.000000</td>\n",
              "      <td>0.000000</td>\n",
              "    </tr>\n",
              "    <tr>\n",
              "      <th>max</th>\n",
              "      <td>71.000000</td>\n",
              "      <td>27733.000000</td>\n",
              "      <td>31.000000</td>\n",
              "      <td>3025.000000</td>\n",
              "      <td>32.000000</td>\n",
              "      <td>871.000000</td>\n",
              "      <td>20.000000</td>\n",
              "    </tr>\n",
              "  </tbody>\n",
              "</table>\n",
              "</div>"
            ],
            "text/plain": [
              "               age       balance          day     duration     campaign  \\\n",
              "count  1374.000000   1374.000000  1374.000000  1374.000000  1374.000000   \n",
              "mean     39.677584   1272.220524    16.224163   250.660116     2.692140   \n",
              "std       9.053622   2467.182003     8.422430   255.094148     2.815105   \n",
              "min      22.000000  -1680.000000     1.000000     5.000000     1.000000   \n",
              "25%      32.000000     61.250000     9.000000   100.000000     1.000000   \n",
              "50%      38.000000    435.000000    16.000000   176.000000     2.000000   \n",
              "75%      46.000000   1411.500000    22.000000   298.750000     3.000000   \n",
              "max      71.000000  27733.000000    31.000000  3025.000000    32.000000   \n",
              "\n",
              "             pdays     previous  \n",
              "count  1374.000000  1374.000000  \n",
              "mean     42.751820     0.591703  \n",
              "std     101.929243     1.686661  \n",
              "min      -1.000000     0.000000  \n",
              "25%      -1.000000     0.000000  \n",
              "50%      -1.000000     0.000000  \n",
              "75%      -1.000000     0.000000  \n",
              "max     871.000000    20.000000  "
            ]
          },
          "execution_count": 25,
          "metadata": {},
          "output_type": "execute_result"
        }
      ],
      "source": [
        "cluster_sample.describe()"
      ]
    }
  ],
  "metadata": {
    "kernelspec": {
      "display_name": "Python 3 (ipykernel)",
      "language": "python",
      "name": "python3"
    },
    "language_info": {
      "codemirror_mode": {
        "name": "ipython",
        "version": 3
      },
      "file_extension": ".py",
      "mimetype": "text/x-python",
      "name": "python",
      "nbconvert_exporter": "python",
      "pygments_lexer": "ipython3",
      "version": "3.12.3"
    },
    "colab": {
      "provenance": []
    }
  },
  "nbformat": 4,
  "nbformat_minor": 5
}