{
  "nbformat": 4,
  "nbformat_minor": 0,
  "metadata": {
    "colab": {
      "provenance": []
    },
    "kernelspec": {
      "name": "python3",
      "display_name": "Python 3"
    },
    "language_info": {
      "name": "python"
    }
  },
  "cells": [
    {
      "cell_type": "code",
      "source": [
        "import pandas as pd\n",
        "import matplotlib as mlp\n",
        "import matplotlib.pyplot as plt"
      ],
      "metadata": {
        "id": "NtGzz3yV7R5j"
      },
      "execution_count": 1,
      "outputs": []
    },
    {
      "cell_type": "code",
      "source": [
        "import tensorflow as tf\n",
        "from tensorflow.keras.layers import Input, Dense\n",
        "from tensorflow.keras.models import Model\n",
        "import numpy as np"
      ],
      "metadata": {
        "id": "3xytQIDS7eUt"
      },
      "execution_count": 4,
      "outputs": []
    },
    {
      "cell_type": "code",
      "source": [
        "import scipy.io.arff as arff"
      ],
      "metadata": {
        "id": "SP3r5kGEGQgN"
      },
      "execution_count": 18,
      "outputs": []
    },
    {
      "cell_type": "code",
      "source": [
        "plt.rcParams['figure.figsize'] = (10, 8)\n",
        "plt.rcParams['axes.grid'] = False"
      ],
      "metadata": {
        "id": "K9fb83Dw71Od"
      },
      "execution_count": 5,
      "outputs": []
    },
    {
      "cell_type": "code",
      "source": [
        "trainset_file = '/content/ECG5000_TRAIN.arff'\n",
        "testset_file = '/content/ECG5000_TEST.arff'\n",
        "\n",
        "traindata, trainmeta = arff.loadarff(trainset_file)\n",
        "testdata, testmeta = arff.loadarff(testset_file)\n",
        "train = pd.DataFrame(traindata, columns=trainmeta.names())\n",
        "test = pd.DataFrame(testdata, columns=testmeta.names())\n",
        "df = pd.concat([train, test])\n",
        "\n",
        "print(train.shape)\n",
        "print(test.shape)\n",
        "print(df.shape)"
      ],
      "metadata": {
        "colab": {
          "base_uri": "https://localhost:8080/"
        },
        "id": "fo8rMFWUE5n5",
        "outputId": "f312bfbc-59d8-4de4-9324-8b6db3510d38"
      },
      "execution_count": 19,
      "outputs": [
        {
          "output_type": "stream",
          "name": "stdout",
          "text": [
            "(500, 141)\n",
            "(4500, 141)\n",
            "(5000, 141)\n"
          ]
        }
      ]
    },
    {
      "cell_type": "code",
      "source": [
        "df.describe()"
      ],
      "metadata": {
        "colab": {
          "base_uri": "https://localhost:8080/",
          "height": 349
        },
        "id": "QZaWYQ8gGZDc",
        "outputId": "ff5079a5-9520-4edd-e9f9-b2897775419f"
      },
      "execution_count": 24,
      "outputs": [
        {
          "output_type": "execute_result",
          "data": {
            "text/plain": [
              "              att1         att2         att3         att4         att5  \\\n",
              "count  5000.000000  5000.000000  5000.000000  5000.000000  5000.000000   \n",
              "mean     -0.262476    -1.649511    -2.492211    -3.119443    -3.167438   \n",
              "std       1.152369     1.445493     1.386409     1.302802     1.104382   \n",
              "min      -6.729499    -7.090374    -5.132459    -5.363241    -5.375715   \n",
              "25%      -1.004511    -2.701576    -3.668096    -4.227247    -4.007470   \n",
              "50%      -0.297541    -1.661892    -2.585677    -3.387934    -3.468718   \n",
              "75%       0.500061    -0.677290    -1.513964    -2.235369    -2.530967   \n",
              "max       4.966414     3.479689     2.660597     1.899798     2.147015   \n",
              "\n",
              "              att6         att7         att8         att9        att10  ...  \\\n",
              "count  5000.000000  5000.000000  5000.000000  5000.000000  5000.000000  ...   \n",
              "mean     -2.866308    -2.273126    -1.798127    -1.410124    -0.936082  ...   \n",
              "std       0.906133     0.731627     0.623100     0.637149     0.657945  ...   \n",
              "min      -5.330194    -4.782240    -4.311288    -4.071361    -4.142476  ...   \n",
              "25%      -3.480479    -2.779941    -2.165851    -1.774124    -1.362068  ...   \n",
              "50%      -2.947061    -2.285578    -1.750157    -1.422570    -0.910487  ...   \n",
              "75%      -2.398813    -1.823494    -1.484923    -1.063708    -0.476660  ...   \n",
              "max       1.614375     1.868728     1.804251     1.683730     1.898627  ...   \n",
              "\n",
              "            att131       att132       att133       att134       att135  \\\n",
              "count  5000.000000  5000.000000  5000.000000  5000.000000  5000.000000   \n",
              "mean      0.146319     0.070973    -0.062914    -0.276206    -0.507667   \n",
              "std       1.171299     1.404842     1.646585     1.895134     2.059758   \n",
              "min      -3.971715    -4.167040    -4.557576    -4.530488    -4.563270   \n",
              "25%      -0.655753    -1.089300    -1.588885    -2.147449    -2.731550   \n",
              "50%       0.473642     0.658318     0.717808     0.604747     0.334857   \n",
              "75%       1.062134     1.169420     1.238687     1.264471     1.234433   \n",
              "max       2.960969     3.007606     2.854680     2.912394     2.937685   \n",
              "\n",
              "            att136       att137       att138       att139       att140  \n",
              "count  5000.000000  5000.000000  5000.000000  5000.000000  5000.000000  \n",
              "mean     -0.761043    -0.834741    -0.642263    -0.487242    -0.706008  \n",
              "std       2.086218     2.056220     1.859296     1.830987     1.414465  \n",
              "min      -5.150100    -4.880460    -5.496107    -5.880890    -6.092227  \n",
              "25%      -3.030509    -2.868331    -2.153513    -1.657771    -1.596692  \n",
              "50%      -0.030767    -0.195151    -0.194423    -0.160262    -0.565588  \n",
              "75%       1.034584     0.945237     0.951681     1.002692     0.272012  \n",
              "max       3.351437     3.432519     3.579448     4.425976     7.402103  \n",
              "\n",
              "[8 rows x 140 columns]"
            ],
            "text/html": [
              "\n",
              "  <div id=\"df-5a9fafc0-1f3b-499f-b84f-15f2fe2d2f6f\" class=\"colab-df-container\">\n",
              "    <div>\n",
              "<style scoped>\n",
              "    .dataframe tbody tr th:only-of-type {\n",
              "        vertical-align: middle;\n",
              "    }\n",
              "\n",
              "    .dataframe tbody tr th {\n",
              "        vertical-align: top;\n",
              "    }\n",
              "\n",
              "    .dataframe thead th {\n",
              "        text-align: right;\n",
              "    }\n",
              "</style>\n",
              "<table border=\"1\" class=\"dataframe\">\n",
              "  <thead>\n",
              "    <tr style=\"text-align: right;\">\n",
              "      <th></th>\n",
              "      <th>att1</th>\n",
              "      <th>att2</th>\n",
              "      <th>att3</th>\n",
              "      <th>att4</th>\n",
              "      <th>att5</th>\n",
              "      <th>att6</th>\n",
              "      <th>att7</th>\n",
              "      <th>att8</th>\n",
              "      <th>att9</th>\n",
              "      <th>att10</th>\n",
              "      <th>...</th>\n",
              "      <th>att131</th>\n",
              "      <th>att132</th>\n",
              "      <th>att133</th>\n",
              "      <th>att134</th>\n",
              "      <th>att135</th>\n",
              "      <th>att136</th>\n",
              "      <th>att137</th>\n",
              "      <th>att138</th>\n",
              "      <th>att139</th>\n",
              "      <th>att140</th>\n",
              "    </tr>\n",
              "  </thead>\n",
              "  <tbody>\n",
              "    <tr>\n",
              "      <th>count</th>\n",
              "      <td>5000.000000</td>\n",
              "      <td>5000.000000</td>\n",
              "      <td>5000.000000</td>\n",
              "      <td>5000.000000</td>\n",
              "      <td>5000.000000</td>\n",
              "      <td>5000.000000</td>\n",
              "      <td>5000.000000</td>\n",
              "      <td>5000.000000</td>\n",
              "      <td>5000.000000</td>\n",
              "      <td>5000.000000</td>\n",
              "      <td>...</td>\n",
              "      <td>5000.000000</td>\n",
              "      <td>5000.000000</td>\n",
              "      <td>5000.000000</td>\n",
              "      <td>5000.000000</td>\n",
              "      <td>5000.000000</td>\n",
              "      <td>5000.000000</td>\n",
              "      <td>5000.000000</td>\n",
              "      <td>5000.000000</td>\n",
              "      <td>5000.000000</td>\n",
              "      <td>5000.000000</td>\n",
              "    </tr>\n",
              "    <tr>\n",
              "      <th>mean</th>\n",
              "      <td>-0.262476</td>\n",
              "      <td>-1.649511</td>\n",
              "      <td>-2.492211</td>\n",
              "      <td>-3.119443</td>\n",
              "      <td>-3.167438</td>\n",
              "      <td>-2.866308</td>\n",
              "      <td>-2.273126</td>\n",
              "      <td>-1.798127</td>\n",
              "      <td>-1.410124</td>\n",
              "      <td>-0.936082</td>\n",
              "      <td>...</td>\n",
              "      <td>0.146319</td>\n",
              "      <td>0.070973</td>\n",
              "      <td>-0.062914</td>\n",
              "      <td>-0.276206</td>\n",
              "      <td>-0.507667</td>\n",
              "      <td>-0.761043</td>\n",
              "      <td>-0.834741</td>\n",
              "      <td>-0.642263</td>\n",
              "      <td>-0.487242</td>\n",
              "      <td>-0.706008</td>\n",
              "    </tr>\n",
              "    <tr>\n",
              "      <th>std</th>\n",
              "      <td>1.152369</td>\n",
              "      <td>1.445493</td>\n",
              "      <td>1.386409</td>\n",
              "      <td>1.302802</td>\n",
              "      <td>1.104382</td>\n",
              "      <td>0.906133</td>\n",
              "      <td>0.731627</td>\n",
              "      <td>0.623100</td>\n",
              "      <td>0.637149</td>\n",
              "      <td>0.657945</td>\n",
              "      <td>...</td>\n",
              "      <td>1.171299</td>\n",
              "      <td>1.404842</td>\n",
              "      <td>1.646585</td>\n",
              "      <td>1.895134</td>\n",
              "      <td>2.059758</td>\n",
              "      <td>2.086218</td>\n",
              "      <td>2.056220</td>\n",
              "      <td>1.859296</td>\n",
              "      <td>1.830987</td>\n",
              "      <td>1.414465</td>\n",
              "    </tr>\n",
              "    <tr>\n",
              "      <th>min</th>\n",
              "      <td>-6.729499</td>\n",
              "      <td>-7.090374</td>\n",
              "      <td>-5.132459</td>\n",
              "      <td>-5.363241</td>\n",
              "      <td>-5.375715</td>\n",
              "      <td>-5.330194</td>\n",
              "      <td>-4.782240</td>\n",
              "      <td>-4.311288</td>\n",
              "      <td>-4.071361</td>\n",
              "      <td>-4.142476</td>\n",
              "      <td>...</td>\n",
              "      <td>-3.971715</td>\n",
              "      <td>-4.167040</td>\n",
              "      <td>-4.557576</td>\n",
              "      <td>-4.530488</td>\n",
              "      <td>-4.563270</td>\n",
              "      <td>-5.150100</td>\n",
              "      <td>-4.880460</td>\n",
              "      <td>-5.496107</td>\n",
              "      <td>-5.880890</td>\n",
              "      <td>-6.092227</td>\n",
              "    </tr>\n",
              "    <tr>\n",
              "      <th>25%</th>\n",
              "      <td>-1.004511</td>\n",
              "      <td>-2.701576</td>\n",
              "      <td>-3.668096</td>\n",
              "      <td>-4.227247</td>\n",
              "      <td>-4.007470</td>\n",
              "      <td>-3.480479</td>\n",
              "      <td>-2.779941</td>\n",
              "      <td>-2.165851</td>\n",
              "      <td>-1.774124</td>\n",
              "      <td>-1.362068</td>\n",
              "      <td>...</td>\n",
              "      <td>-0.655753</td>\n",
              "      <td>-1.089300</td>\n",
              "      <td>-1.588885</td>\n",
              "      <td>-2.147449</td>\n",
              "      <td>-2.731550</td>\n",
              "      <td>-3.030509</td>\n",
              "      <td>-2.868331</td>\n",
              "      <td>-2.153513</td>\n",
              "      <td>-1.657771</td>\n",
              "      <td>-1.596692</td>\n",
              "    </tr>\n",
              "    <tr>\n",
              "      <th>50%</th>\n",
              "      <td>-0.297541</td>\n",
              "      <td>-1.661892</td>\n",
              "      <td>-2.585677</td>\n",
              "      <td>-3.387934</td>\n",
              "      <td>-3.468718</td>\n",
              "      <td>-2.947061</td>\n",
              "      <td>-2.285578</td>\n",
              "      <td>-1.750157</td>\n",
              "      <td>-1.422570</td>\n",
              "      <td>-0.910487</td>\n",
              "      <td>...</td>\n",
              "      <td>0.473642</td>\n",
              "      <td>0.658318</td>\n",
              "      <td>0.717808</td>\n",
              "      <td>0.604747</td>\n",
              "      <td>0.334857</td>\n",
              "      <td>-0.030767</td>\n",
              "      <td>-0.195151</td>\n",
              "      <td>-0.194423</td>\n",
              "      <td>-0.160262</td>\n",
              "      <td>-0.565588</td>\n",
              "    </tr>\n",
              "    <tr>\n",
              "      <th>75%</th>\n",
              "      <td>0.500061</td>\n",
              "      <td>-0.677290</td>\n",
              "      <td>-1.513964</td>\n",
              "      <td>-2.235369</td>\n",
              "      <td>-2.530967</td>\n",
              "      <td>-2.398813</td>\n",
              "      <td>-1.823494</td>\n",
              "      <td>-1.484923</td>\n",
              "      <td>-1.063708</td>\n",
              "      <td>-0.476660</td>\n",
              "      <td>...</td>\n",
              "      <td>1.062134</td>\n",
              "      <td>1.169420</td>\n",
              "      <td>1.238687</td>\n",
              "      <td>1.264471</td>\n",
              "      <td>1.234433</td>\n",
              "      <td>1.034584</td>\n",
              "      <td>0.945237</td>\n",
              "      <td>0.951681</td>\n",
              "      <td>1.002692</td>\n",
              "      <td>0.272012</td>\n",
              "    </tr>\n",
              "    <tr>\n",
              "      <th>max</th>\n",
              "      <td>4.966414</td>\n",
              "      <td>3.479689</td>\n",
              "      <td>2.660597</td>\n",
              "      <td>1.899798</td>\n",
              "      <td>2.147015</td>\n",
              "      <td>1.614375</td>\n",
              "      <td>1.868728</td>\n",
              "      <td>1.804251</td>\n",
              "      <td>1.683730</td>\n",
              "      <td>1.898627</td>\n",
              "      <td>...</td>\n",
              "      <td>2.960969</td>\n",
              "      <td>3.007606</td>\n",
              "      <td>2.854680</td>\n",
              "      <td>2.912394</td>\n",
              "      <td>2.937685</td>\n",
              "      <td>3.351437</td>\n",
              "      <td>3.432519</td>\n",
              "      <td>3.579448</td>\n",
              "      <td>4.425976</td>\n",
              "      <td>7.402103</td>\n",
              "    </tr>\n",
              "  </tbody>\n",
              "</table>\n",
              "<p>8 rows × 140 columns</p>\n",
              "</div>\n",
              "    <div class=\"colab-df-buttons\">\n",
              "\n",
              "  <div class=\"colab-df-container\">\n",
              "    <button class=\"colab-df-convert\" onclick=\"convertToInteractive('df-5a9fafc0-1f3b-499f-b84f-15f2fe2d2f6f')\"\n",
              "            title=\"Convert this dataframe to an interactive table.\"\n",
              "            style=\"display:none;\">\n",
              "\n",
              "  <svg xmlns=\"http://www.w3.org/2000/svg\" height=\"24px\" viewBox=\"0 -960 960 960\">\n",
              "    <path d=\"M120-120v-720h720v720H120Zm60-500h600v-160H180v160Zm220 220h160v-160H400v160Zm0 220h160v-160H400v160ZM180-400h160v-160H180v160Zm440 0h160v-160H620v160ZM180-180h160v-160H180v160Zm440 0h160v-160H620v160Z\"/>\n",
              "  </svg>\n",
              "    </button>\n",
              "\n",
              "  <style>\n",
              "    .colab-df-container {\n",
              "      display:flex;\n",
              "      gap: 12px;\n",
              "    }\n",
              "\n",
              "    .colab-df-convert {\n",
              "      background-color: #E8F0FE;\n",
              "      border: none;\n",
              "      border-radius: 50%;\n",
              "      cursor: pointer;\n",
              "      display: none;\n",
              "      fill: #1967D2;\n",
              "      height: 32px;\n",
              "      padding: 0 0 0 0;\n",
              "      width: 32px;\n",
              "    }\n",
              "\n",
              "    .colab-df-convert:hover {\n",
              "      background-color: #E2EBFA;\n",
              "      box-shadow: 0px 1px 2px rgba(60, 64, 67, 0.3), 0px 1px 3px 1px rgba(60, 64, 67, 0.15);\n",
              "      fill: #174EA6;\n",
              "    }\n",
              "\n",
              "    .colab-df-buttons div {\n",
              "      margin-bottom: 4px;\n",
              "    }\n",
              "\n",
              "    [theme=dark] .colab-df-convert {\n",
              "      background-color: #3B4455;\n",
              "      fill: #D2E3FC;\n",
              "    }\n",
              "\n",
              "    [theme=dark] .colab-df-convert:hover {\n",
              "      background-color: #434B5C;\n",
              "      box-shadow: 0px 1px 3px 1px rgba(0, 0, 0, 0.15);\n",
              "      filter: drop-shadow(0px 1px 2px rgba(0, 0, 0, 0.3));\n",
              "      fill: #FFFFFF;\n",
              "    }\n",
              "  </style>\n",
              "\n",
              "    <script>\n",
              "      const buttonEl =\n",
              "        document.querySelector('#df-5a9fafc0-1f3b-499f-b84f-15f2fe2d2f6f button.colab-df-convert');\n",
              "      buttonEl.style.display =\n",
              "        google.colab.kernel.accessAllowed ? 'block' : 'none';\n",
              "\n",
              "      async function convertToInteractive(key) {\n",
              "        const element = document.querySelector('#df-5a9fafc0-1f3b-499f-b84f-15f2fe2d2f6f');\n",
              "        const dataTable =\n",
              "          await google.colab.kernel.invokeFunction('convertToInteractive',\n",
              "                                                    [key], {});\n",
              "        if (!dataTable) return;\n",
              "\n",
              "        const docLinkHtml = 'Like what you see? Visit the ' +\n",
              "          '<a target=\"_blank\" href=https://colab.research.google.com/notebooks/data_table.ipynb>data table notebook</a>'\n",
              "          + ' to learn more about interactive tables.';\n",
              "        element.innerHTML = '';\n",
              "        dataTable['output_type'] = 'display_data';\n",
              "        await google.colab.output.renderOutput(dataTable, element);\n",
              "        const docLink = document.createElement('div');\n",
              "        docLink.innerHTML = docLinkHtml;\n",
              "        element.appendChild(docLink);\n",
              "      }\n",
              "    </script>\n",
              "  </div>\n",
              "\n",
              "\n",
              "<div id=\"df-9ffe9d59-24df-4295-8668-a386b20c5848\">\n",
              "  <button class=\"colab-df-quickchart\" onclick=\"quickchart('df-9ffe9d59-24df-4295-8668-a386b20c5848')\"\n",
              "            title=\"Suggest charts\"\n",
              "            style=\"display:none;\">\n",
              "\n",
              "<svg xmlns=\"http://www.w3.org/2000/svg\" height=\"24px\"viewBox=\"0 0 24 24\"\n",
              "     width=\"24px\">\n",
              "    <g>\n",
              "        <path d=\"M19 3H5c-1.1 0-2 .9-2 2v14c0 1.1.9 2 2 2h14c1.1 0 2-.9 2-2V5c0-1.1-.9-2-2-2zM9 17H7v-7h2v7zm4 0h-2V7h2v10zm4 0h-2v-4h2v4z\"/>\n",
              "    </g>\n",
              "</svg>\n",
              "  </button>\n",
              "\n",
              "<style>\n",
              "  .colab-df-quickchart {\n",
              "      --bg-color: #E8F0FE;\n",
              "      --fill-color: #1967D2;\n",
              "      --hover-bg-color: #E2EBFA;\n",
              "      --hover-fill-color: #174EA6;\n",
              "      --disabled-fill-color: #AAA;\n",
              "      --disabled-bg-color: #DDD;\n",
              "  }\n",
              "\n",
              "  [theme=dark] .colab-df-quickchart {\n",
              "      --bg-color: #3B4455;\n",
              "      --fill-color: #D2E3FC;\n",
              "      --hover-bg-color: #434B5C;\n",
              "      --hover-fill-color: #FFFFFF;\n",
              "      --disabled-bg-color: #3B4455;\n",
              "      --disabled-fill-color: #666;\n",
              "  }\n",
              "\n",
              "  .colab-df-quickchart {\n",
              "    background-color: var(--bg-color);\n",
              "    border: none;\n",
              "    border-radius: 50%;\n",
              "    cursor: pointer;\n",
              "    display: none;\n",
              "    fill: var(--fill-color);\n",
              "    height: 32px;\n",
              "    padding: 0;\n",
              "    width: 32px;\n",
              "  }\n",
              "\n",
              "  .colab-df-quickchart:hover {\n",
              "    background-color: var(--hover-bg-color);\n",
              "    box-shadow: 0 1px 2px rgba(60, 64, 67, 0.3), 0 1px 3px 1px rgba(60, 64, 67, 0.15);\n",
              "    fill: var(--button-hover-fill-color);\n",
              "  }\n",
              "\n",
              "  .colab-df-quickchart-complete:disabled,\n",
              "  .colab-df-quickchart-complete:disabled:hover {\n",
              "    background-color: var(--disabled-bg-color);\n",
              "    fill: var(--disabled-fill-color);\n",
              "    box-shadow: none;\n",
              "  }\n",
              "\n",
              "  .colab-df-spinner {\n",
              "    border: 2px solid var(--fill-color);\n",
              "    border-color: transparent;\n",
              "    border-bottom-color: var(--fill-color);\n",
              "    animation:\n",
              "      spin 1s steps(1) infinite;\n",
              "  }\n",
              "\n",
              "  @keyframes spin {\n",
              "    0% {\n",
              "      border-color: transparent;\n",
              "      border-bottom-color: var(--fill-color);\n",
              "      border-left-color: var(--fill-color);\n",
              "    }\n",
              "    20% {\n",
              "      border-color: transparent;\n",
              "      border-left-color: var(--fill-color);\n",
              "      border-top-color: var(--fill-color);\n",
              "    }\n",
              "    30% {\n",
              "      border-color: transparent;\n",
              "      border-left-color: var(--fill-color);\n",
              "      border-top-color: var(--fill-color);\n",
              "      border-right-color: var(--fill-color);\n",
              "    }\n",
              "    40% {\n",
              "      border-color: transparent;\n",
              "      border-right-color: var(--fill-color);\n",
              "      border-top-color: var(--fill-color);\n",
              "    }\n",
              "    60% {\n",
              "      border-color: transparent;\n",
              "      border-right-color: var(--fill-color);\n",
              "    }\n",
              "    80% {\n",
              "      border-color: transparent;\n",
              "      border-right-color: var(--fill-color);\n",
              "      border-bottom-color: var(--fill-color);\n",
              "    }\n",
              "    90% {\n",
              "      border-color: transparent;\n",
              "      border-bottom-color: var(--fill-color);\n",
              "    }\n",
              "  }\n",
              "</style>\n",
              "\n",
              "  <script>\n",
              "    async function quickchart(key) {\n",
              "      const quickchartButtonEl =\n",
              "        document.querySelector('#' + key + ' button');\n",
              "      quickchartButtonEl.disabled = true;  // To prevent multiple clicks.\n",
              "      quickchartButtonEl.classList.add('colab-df-spinner');\n",
              "      try {\n",
              "        const charts = await google.colab.kernel.invokeFunction(\n",
              "            'suggestCharts', [key], {});\n",
              "      } catch (error) {\n",
              "        console.error('Error during call to suggestCharts:', error);\n",
              "      }\n",
              "      quickchartButtonEl.classList.remove('colab-df-spinner');\n",
              "      quickchartButtonEl.classList.add('colab-df-quickchart-complete');\n",
              "    }\n",
              "    (() => {\n",
              "      let quickchartButtonEl =\n",
              "        document.querySelector('#df-9ffe9d59-24df-4295-8668-a386b20c5848 button');\n",
              "      quickchartButtonEl.style.display =\n",
              "        google.colab.kernel.accessAllowed ? 'block' : 'none';\n",
              "    })();\n",
              "  </script>\n",
              "</div>\n",
              "\n",
              "    </div>\n",
              "  </div>\n"
            ],
            "application/vnd.google.colaboratory.intrinsic+json": {
              "type": "dataframe"
            }
          },
          "metadata": {},
          "execution_count": 24
        }
      ]
    },
    {
      "cell_type": "code",
      "source": [
        "df.head(5)"
      ],
      "metadata": {
        "colab": {
          "base_uri": "https://localhost:8080/",
          "height": 255
        },
        "id": "JGvQblGTIkaX",
        "outputId": "7c118049-2581-4bc4-abeb-9291613f76eb"
      },
      "execution_count": 27,
      "outputs": [
        {
          "output_type": "execute_result",
          "data": {
            "text/plain": [
              "       att1      att2      att3      att4      att5      att6      att7  \\\n",
              "0 -0.112522 -2.827204 -3.773897 -4.349751 -4.376041 -3.474986 -2.181408   \n",
              "1 -1.100878 -3.996840 -4.285843 -4.506579 -4.022377 -3.234368 -1.566126   \n",
              "2 -0.567088 -2.593450 -3.874230 -4.584095 -4.187449 -3.151462 -1.742940   \n",
              "3  0.490473 -1.914407 -3.616364 -4.318823 -4.268016 -3.881110 -2.993280   \n",
              "4  0.800232 -0.874252 -2.384761 -3.973292 -4.338224 -3.802422 -2.534510   \n",
              "\n",
              "       att8      att9     att10  ...    att132    att133    att134    att135  \\\n",
              "0 -1.818286 -1.250522 -0.477492  ...  0.792168  0.933541  0.796958  0.578621   \n",
              "1 -0.992258 -0.754680  0.042321  ...  0.538356  0.656881  0.787490  0.724046   \n",
              "2 -1.490659 -1.183580 -0.394229  ...  0.886073  0.531452  0.311377 -0.021919   \n",
              "3 -1.671131 -1.333884 -0.965629  ...  0.350816  0.499111  0.600345  0.842069   \n",
              "4 -1.783423 -1.594450 -0.753199  ...  1.148884  0.958434  1.059025  1.371682   \n",
              "\n",
              "     att136    att137    att138    att139    att140  target  \n",
              "0  0.257740  0.228077  0.123431  0.925286  0.193137    b'1'  \n",
              "1  0.555784  0.476333  0.773820  1.119621 -1.436250    b'1'  \n",
              "2 -0.713683 -0.532197  0.321097  0.904227 -0.421797    b'1'  \n",
              "3  0.952074  0.990133  1.086798  1.403011 -0.383564    b'1'  \n",
              "4  1.277392  0.960304  0.971020  1.614392  1.421456    b'1'  \n",
              "\n",
              "[5 rows x 141 columns]"
            ],
            "text/html": [
              "\n",
              "  <div id=\"df-327287a5-0817-4db1-a7ee-6163b301f682\" class=\"colab-df-container\">\n",
              "    <div>\n",
              "<style scoped>\n",
              "    .dataframe tbody tr th:only-of-type {\n",
              "        vertical-align: middle;\n",
              "    }\n",
              "\n",
              "    .dataframe tbody tr th {\n",
              "        vertical-align: top;\n",
              "    }\n",
              "\n",
              "    .dataframe thead th {\n",
              "        text-align: right;\n",
              "    }\n",
              "</style>\n",
              "<table border=\"1\" class=\"dataframe\">\n",
              "  <thead>\n",
              "    <tr style=\"text-align: right;\">\n",
              "      <th></th>\n",
              "      <th>att1</th>\n",
              "      <th>att2</th>\n",
              "      <th>att3</th>\n",
              "      <th>att4</th>\n",
              "      <th>att5</th>\n",
              "      <th>att6</th>\n",
              "      <th>att7</th>\n",
              "      <th>att8</th>\n",
              "      <th>att9</th>\n",
              "      <th>att10</th>\n",
              "      <th>...</th>\n",
              "      <th>att132</th>\n",
              "      <th>att133</th>\n",
              "      <th>att134</th>\n",
              "      <th>att135</th>\n",
              "      <th>att136</th>\n",
              "      <th>att137</th>\n",
              "      <th>att138</th>\n",
              "      <th>att139</th>\n",
              "      <th>att140</th>\n",
              "      <th>target</th>\n",
              "    </tr>\n",
              "  </thead>\n",
              "  <tbody>\n",
              "    <tr>\n",
              "      <th>0</th>\n",
              "      <td>-0.112522</td>\n",
              "      <td>-2.827204</td>\n",
              "      <td>-3.773897</td>\n",
              "      <td>-4.349751</td>\n",
              "      <td>-4.376041</td>\n",
              "      <td>-3.474986</td>\n",
              "      <td>-2.181408</td>\n",
              "      <td>-1.818286</td>\n",
              "      <td>-1.250522</td>\n",
              "      <td>-0.477492</td>\n",
              "      <td>...</td>\n",
              "      <td>0.792168</td>\n",
              "      <td>0.933541</td>\n",
              "      <td>0.796958</td>\n",
              "      <td>0.578621</td>\n",
              "      <td>0.257740</td>\n",
              "      <td>0.228077</td>\n",
              "      <td>0.123431</td>\n",
              "      <td>0.925286</td>\n",
              "      <td>0.193137</td>\n",
              "      <td>b'1'</td>\n",
              "    </tr>\n",
              "    <tr>\n",
              "      <th>1</th>\n",
              "      <td>-1.100878</td>\n",
              "      <td>-3.996840</td>\n",
              "      <td>-4.285843</td>\n",
              "      <td>-4.506579</td>\n",
              "      <td>-4.022377</td>\n",
              "      <td>-3.234368</td>\n",
              "      <td>-1.566126</td>\n",
              "      <td>-0.992258</td>\n",
              "      <td>-0.754680</td>\n",
              "      <td>0.042321</td>\n",
              "      <td>...</td>\n",
              "      <td>0.538356</td>\n",
              "      <td>0.656881</td>\n",
              "      <td>0.787490</td>\n",
              "      <td>0.724046</td>\n",
              "      <td>0.555784</td>\n",
              "      <td>0.476333</td>\n",
              "      <td>0.773820</td>\n",
              "      <td>1.119621</td>\n",
              "      <td>-1.436250</td>\n",
              "      <td>b'1'</td>\n",
              "    </tr>\n",
              "    <tr>\n",
              "      <th>2</th>\n",
              "      <td>-0.567088</td>\n",
              "      <td>-2.593450</td>\n",
              "      <td>-3.874230</td>\n",
              "      <td>-4.584095</td>\n",
              "      <td>-4.187449</td>\n",
              "      <td>-3.151462</td>\n",
              "      <td>-1.742940</td>\n",
              "      <td>-1.490659</td>\n",
              "      <td>-1.183580</td>\n",
              "      <td>-0.394229</td>\n",
              "      <td>...</td>\n",
              "      <td>0.886073</td>\n",
              "      <td>0.531452</td>\n",
              "      <td>0.311377</td>\n",
              "      <td>-0.021919</td>\n",
              "      <td>-0.713683</td>\n",
              "      <td>-0.532197</td>\n",
              "      <td>0.321097</td>\n",
              "      <td>0.904227</td>\n",
              "      <td>-0.421797</td>\n",
              "      <td>b'1'</td>\n",
              "    </tr>\n",
              "    <tr>\n",
              "      <th>3</th>\n",
              "      <td>0.490473</td>\n",
              "      <td>-1.914407</td>\n",
              "      <td>-3.616364</td>\n",
              "      <td>-4.318823</td>\n",
              "      <td>-4.268016</td>\n",
              "      <td>-3.881110</td>\n",
              "      <td>-2.993280</td>\n",
              "      <td>-1.671131</td>\n",
              "      <td>-1.333884</td>\n",
              "      <td>-0.965629</td>\n",
              "      <td>...</td>\n",
              "      <td>0.350816</td>\n",
              "      <td>0.499111</td>\n",
              "      <td>0.600345</td>\n",
              "      <td>0.842069</td>\n",
              "      <td>0.952074</td>\n",
              "      <td>0.990133</td>\n",
              "      <td>1.086798</td>\n",
              "      <td>1.403011</td>\n",
              "      <td>-0.383564</td>\n",
              "      <td>b'1'</td>\n",
              "    </tr>\n",
              "    <tr>\n",
              "      <th>4</th>\n",
              "      <td>0.800232</td>\n",
              "      <td>-0.874252</td>\n",
              "      <td>-2.384761</td>\n",
              "      <td>-3.973292</td>\n",
              "      <td>-4.338224</td>\n",
              "      <td>-3.802422</td>\n",
              "      <td>-2.534510</td>\n",
              "      <td>-1.783423</td>\n",
              "      <td>-1.594450</td>\n",
              "      <td>-0.753199</td>\n",
              "      <td>...</td>\n",
              "      <td>1.148884</td>\n",
              "      <td>0.958434</td>\n",
              "      <td>1.059025</td>\n",
              "      <td>1.371682</td>\n",
              "      <td>1.277392</td>\n",
              "      <td>0.960304</td>\n",
              "      <td>0.971020</td>\n",
              "      <td>1.614392</td>\n",
              "      <td>1.421456</td>\n",
              "      <td>b'1'</td>\n",
              "    </tr>\n",
              "  </tbody>\n",
              "</table>\n",
              "<p>5 rows × 141 columns</p>\n",
              "</div>\n",
              "    <div class=\"colab-df-buttons\">\n",
              "\n",
              "  <div class=\"colab-df-container\">\n",
              "    <button class=\"colab-df-convert\" onclick=\"convertToInteractive('df-327287a5-0817-4db1-a7ee-6163b301f682')\"\n",
              "            title=\"Convert this dataframe to an interactive table.\"\n",
              "            style=\"display:none;\">\n",
              "\n",
              "  <svg xmlns=\"http://www.w3.org/2000/svg\" height=\"24px\" viewBox=\"0 -960 960 960\">\n",
              "    <path d=\"M120-120v-720h720v720H120Zm60-500h600v-160H180v160Zm220 220h160v-160H400v160Zm0 220h160v-160H400v160ZM180-400h160v-160H180v160Zm440 0h160v-160H620v160ZM180-180h160v-160H180v160Zm440 0h160v-160H620v160Z\"/>\n",
              "  </svg>\n",
              "    </button>\n",
              "\n",
              "  <style>\n",
              "    .colab-df-container {\n",
              "      display:flex;\n",
              "      gap: 12px;\n",
              "    }\n",
              "\n",
              "    .colab-df-convert {\n",
              "      background-color: #E8F0FE;\n",
              "      border: none;\n",
              "      border-radius: 50%;\n",
              "      cursor: pointer;\n",
              "      display: none;\n",
              "      fill: #1967D2;\n",
              "      height: 32px;\n",
              "      padding: 0 0 0 0;\n",
              "      width: 32px;\n",
              "    }\n",
              "\n",
              "    .colab-df-convert:hover {\n",
              "      background-color: #E2EBFA;\n",
              "      box-shadow: 0px 1px 2px rgba(60, 64, 67, 0.3), 0px 1px 3px 1px rgba(60, 64, 67, 0.15);\n",
              "      fill: #174EA6;\n",
              "    }\n",
              "\n",
              "    .colab-df-buttons div {\n",
              "      margin-bottom: 4px;\n",
              "    }\n",
              "\n",
              "    [theme=dark] .colab-df-convert {\n",
              "      background-color: #3B4455;\n",
              "      fill: #D2E3FC;\n",
              "    }\n",
              "\n",
              "    [theme=dark] .colab-df-convert:hover {\n",
              "      background-color: #434B5C;\n",
              "      box-shadow: 0px 1px 3px 1px rgba(0, 0, 0, 0.15);\n",
              "      filter: drop-shadow(0px 1px 2px rgba(0, 0, 0, 0.3));\n",
              "      fill: #FFFFFF;\n",
              "    }\n",
              "  </style>\n",
              "\n",
              "    <script>\n",
              "      const buttonEl =\n",
              "        document.querySelector('#df-327287a5-0817-4db1-a7ee-6163b301f682 button.colab-df-convert');\n",
              "      buttonEl.style.display =\n",
              "        google.colab.kernel.accessAllowed ? 'block' : 'none';\n",
              "\n",
              "      async function convertToInteractive(key) {\n",
              "        const element = document.querySelector('#df-327287a5-0817-4db1-a7ee-6163b301f682');\n",
              "        const dataTable =\n",
              "          await google.colab.kernel.invokeFunction('convertToInteractive',\n",
              "                                                    [key], {});\n",
              "        if (!dataTable) return;\n",
              "\n",
              "        const docLinkHtml = 'Like what you see? Visit the ' +\n",
              "          '<a target=\"_blank\" href=https://colab.research.google.com/notebooks/data_table.ipynb>data table notebook</a>'\n",
              "          + ' to learn more about interactive tables.';\n",
              "        element.innerHTML = '';\n",
              "        dataTable['output_type'] = 'display_data';\n",
              "        await google.colab.output.renderOutput(dataTable, element);\n",
              "        const docLink = document.createElement('div');\n",
              "        docLink.innerHTML = docLinkHtml;\n",
              "        element.appendChild(docLink);\n",
              "      }\n",
              "    </script>\n",
              "  </div>\n",
              "\n",
              "\n",
              "<div id=\"df-6e53c216-8e51-4641-acbe-403c3f60c4e9\">\n",
              "  <button class=\"colab-df-quickchart\" onclick=\"quickchart('df-6e53c216-8e51-4641-acbe-403c3f60c4e9')\"\n",
              "            title=\"Suggest charts\"\n",
              "            style=\"display:none;\">\n",
              "\n",
              "<svg xmlns=\"http://www.w3.org/2000/svg\" height=\"24px\"viewBox=\"0 0 24 24\"\n",
              "     width=\"24px\">\n",
              "    <g>\n",
              "        <path d=\"M19 3H5c-1.1 0-2 .9-2 2v14c0 1.1.9 2 2 2h14c1.1 0 2-.9 2-2V5c0-1.1-.9-2-2-2zM9 17H7v-7h2v7zm4 0h-2V7h2v10zm4 0h-2v-4h2v4z\"/>\n",
              "    </g>\n",
              "</svg>\n",
              "  </button>\n",
              "\n",
              "<style>\n",
              "  .colab-df-quickchart {\n",
              "      --bg-color: #E8F0FE;\n",
              "      --fill-color: #1967D2;\n",
              "      --hover-bg-color: #E2EBFA;\n",
              "      --hover-fill-color: #174EA6;\n",
              "      --disabled-fill-color: #AAA;\n",
              "      --disabled-bg-color: #DDD;\n",
              "  }\n",
              "\n",
              "  [theme=dark] .colab-df-quickchart {\n",
              "      --bg-color: #3B4455;\n",
              "      --fill-color: #D2E3FC;\n",
              "      --hover-bg-color: #434B5C;\n",
              "      --hover-fill-color: #FFFFFF;\n",
              "      --disabled-bg-color: #3B4455;\n",
              "      --disabled-fill-color: #666;\n",
              "  }\n",
              "\n",
              "  .colab-df-quickchart {\n",
              "    background-color: var(--bg-color);\n",
              "    border: none;\n",
              "    border-radius: 50%;\n",
              "    cursor: pointer;\n",
              "    display: none;\n",
              "    fill: var(--fill-color);\n",
              "    height: 32px;\n",
              "    padding: 0;\n",
              "    width: 32px;\n",
              "  }\n",
              "\n",
              "  .colab-df-quickchart:hover {\n",
              "    background-color: var(--hover-bg-color);\n",
              "    box-shadow: 0 1px 2px rgba(60, 64, 67, 0.3), 0 1px 3px 1px rgba(60, 64, 67, 0.15);\n",
              "    fill: var(--button-hover-fill-color);\n",
              "  }\n",
              "\n",
              "  .colab-df-quickchart-complete:disabled,\n",
              "  .colab-df-quickchart-complete:disabled:hover {\n",
              "    background-color: var(--disabled-bg-color);\n",
              "    fill: var(--disabled-fill-color);\n",
              "    box-shadow: none;\n",
              "  }\n",
              "\n",
              "  .colab-df-spinner {\n",
              "    border: 2px solid var(--fill-color);\n",
              "    border-color: transparent;\n",
              "    border-bottom-color: var(--fill-color);\n",
              "    animation:\n",
              "      spin 1s steps(1) infinite;\n",
              "  }\n",
              "\n",
              "  @keyframes spin {\n",
              "    0% {\n",
              "      border-color: transparent;\n",
              "      border-bottom-color: var(--fill-color);\n",
              "      border-left-color: var(--fill-color);\n",
              "    }\n",
              "    20% {\n",
              "      border-color: transparent;\n",
              "      border-left-color: var(--fill-color);\n",
              "      border-top-color: var(--fill-color);\n",
              "    }\n",
              "    30% {\n",
              "      border-color: transparent;\n",
              "      border-left-color: var(--fill-color);\n",
              "      border-top-color: var(--fill-color);\n",
              "      border-right-color: var(--fill-color);\n",
              "    }\n",
              "    40% {\n",
              "      border-color: transparent;\n",
              "      border-right-color: var(--fill-color);\n",
              "      border-top-color: var(--fill-color);\n",
              "    }\n",
              "    60% {\n",
              "      border-color: transparent;\n",
              "      border-right-color: var(--fill-color);\n",
              "    }\n",
              "    80% {\n",
              "      border-color: transparent;\n",
              "      border-right-color: var(--fill-color);\n",
              "      border-bottom-color: var(--fill-color);\n",
              "    }\n",
              "    90% {\n",
              "      border-color: transparent;\n",
              "      border-bottom-color: var(--fill-color);\n",
              "    }\n",
              "  }\n",
              "</style>\n",
              "\n",
              "  <script>\n",
              "    async function quickchart(key) {\n",
              "      const quickchartButtonEl =\n",
              "        document.querySelector('#' + key + ' button');\n",
              "      quickchartButtonEl.disabled = true;  // To prevent multiple clicks.\n",
              "      quickchartButtonEl.classList.add('colab-df-spinner');\n",
              "      try {\n",
              "        const charts = await google.colab.kernel.invokeFunction(\n",
              "            'suggestCharts', [key], {});\n",
              "      } catch (error) {\n",
              "        console.error('Error during call to suggestCharts:', error);\n",
              "      }\n",
              "      quickchartButtonEl.classList.remove('colab-df-spinner');\n",
              "      quickchartButtonEl.classList.add('colab-df-quickchart-complete');\n",
              "    }\n",
              "    (() => {\n",
              "      let quickchartButtonEl =\n",
              "        document.querySelector('#df-6e53c216-8e51-4641-acbe-403c3f60c4e9 button');\n",
              "      quickchartButtonEl.style.display =\n",
              "        google.colab.kernel.accessAllowed ? 'block' : 'none';\n",
              "    })();\n",
              "  </script>\n",
              "</div>\n",
              "\n",
              "    </div>\n",
              "  </div>\n"
            ],
            "application/vnd.google.colaboratory.intrinsic+json": {
              "type": "dataframe",
              "variable_name": "df"
            }
          },
          "metadata": {},
          "execution_count": 27
        }
      ]
    },
    {
      "cell_type": "code",
      "source": [],
      "metadata": {
        "colab": {
          "base_uri": "https://localhost:8080/",
          "height": 272
        },
        "id": "nwP3ML7uGj3k",
        "outputId": "b35f826b-f128-4204-e11e-26f6766d364f"
      },
      "execution_count": 28,
      "outputs": [
        {
          "output_type": "execute_result",
          "data": {
            "text/plain": [
              "target\n",
              "b'1'    2919\n",
              "b'2'    1767\n",
              "b'4'     194\n",
              "b'3'      96\n",
              "b'5'      24\n",
              "Name: count, dtype: int64"
            ],
            "text/html": [
              "<div>\n",
              "<style scoped>\n",
              "    .dataframe tbody tr th:only-of-type {\n",
              "        vertical-align: middle;\n",
              "    }\n",
              "\n",
              "    .dataframe tbody tr th {\n",
              "        vertical-align: top;\n",
              "    }\n",
              "\n",
              "    .dataframe thead th {\n",
              "        text-align: right;\n",
              "    }\n",
              "</style>\n",
              "<table border=\"1\" class=\"dataframe\">\n",
              "  <thead>\n",
              "    <tr style=\"text-align: right;\">\n",
              "      <th></th>\n",
              "      <th>count</th>\n",
              "    </tr>\n",
              "    <tr>\n",
              "      <th>target</th>\n",
              "      <th></th>\n",
              "    </tr>\n",
              "  </thead>\n",
              "  <tbody>\n",
              "    <tr>\n",
              "      <th>b'1'</th>\n",
              "      <td>2919</td>\n",
              "    </tr>\n",
              "    <tr>\n",
              "      <th>b'2'</th>\n",
              "      <td>1767</td>\n",
              "    </tr>\n",
              "    <tr>\n",
              "      <th>b'4'</th>\n",
              "      <td>194</td>\n",
              "    </tr>\n",
              "    <tr>\n",
              "      <th>b'3'</th>\n",
              "      <td>96</td>\n",
              "    </tr>\n",
              "    <tr>\n",
              "      <th>b'5'</th>\n",
              "      <td>24</td>\n",
              "    </tr>\n",
              "  </tbody>\n",
              "</table>\n",
              "</div><br><label><b>dtype:</b> int64</label>"
            ]
          },
          "metadata": {},
          "execution_count": 28
        }
      ]
    },
    {
      "cell_type": "code",
      "source": [
        "value_map = {\n",
        "    b'1': 1.0,\n",
        "    b'2': 2.0,\n",
        "    b'3':3.0,\n",
        "    b'4':4.0,\n",
        "    b'5':5.0\n",
        "}\n",
        "\n",
        "df['target'] = df['target'].replace(value_map)"
      ],
      "metadata": {
        "id": "fAXRWCGAJYKQ"
      },
      "execution_count": 31,
      "outputs": []
    },
    {
      "cell_type": "code",
      "source": [
        "df['target'].value_counts()"
      ],
      "metadata": {
        "colab": {
          "base_uri": "https://localhost:8080/",
          "height": 272
        },
        "id": "BSfFhwwmJwoD",
        "outputId": "b35b990f-242f-452e-b714-1d14f26a7554"
      },
      "execution_count": 32,
      "outputs": [
        {
          "output_type": "execute_result",
          "data": {
            "text/plain": [
              "target\n",
              "1    2919\n",
              "2    1767\n",
              "4     194\n",
              "3      96\n",
              "5      24\n",
              "Name: count, dtype: int64"
            ],
            "text/html": [
              "<div>\n",
              "<style scoped>\n",
              "    .dataframe tbody tr th:only-of-type {\n",
              "        vertical-align: middle;\n",
              "    }\n",
              "\n",
              "    .dataframe tbody tr th {\n",
              "        vertical-align: top;\n",
              "    }\n",
              "\n",
              "    .dataframe thead th {\n",
              "        text-align: right;\n",
              "    }\n",
              "</style>\n",
              "<table border=\"1\" class=\"dataframe\">\n",
              "  <thead>\n",
              "    <tr style=\"text-align: right;\">\n",
              "      <th></th>\n",
              "      <th>count</th>\n",
              "    </tr>\n",
              "    <tr>\n",
              "      <th>target</th>\n",
              "      <th></th>\n",
              "    </tr>\n",
              "  </thead>\n",
              "  <tbody>\n",
              "    <tr>\n",
              "      <th>1</th>\n",
              "      <td>2919</td>\n",
              "    </tr>\n",
              "    <tr>\n",
              "      <th>2</th>\n",
              "      <td>1767</td>\n",
              "    </tr>\n",
              "    <tr>\n",
              "      <th>4</th>\n",
              "      <td>194</td>\n",
              "    </tr>\n",
              "    <tr>\n",
              "      <th>3</th>\n",
              "      <td>96</td>\n",
              "    </tr>\n",
              "    <tr>\n",
              "      <th>5</th>\n",
              "      <td>24</td>\n",
              "    </tr>\n",
              "  </tbody>\n",
              "</table>\n",
              "</div><br><label><b>dtype:</b> int64</label>"
            ]
          },
          "metadata": {},
          "execution_count": 32
        }
      ]
    },
    {
      "cell_type": "code",
      "source": [
        "df.describe()"
      ],
      "metadata": {
        "colab": {
          "base_uri": "https://localhost:8080/",
          "height": 349
        },
        "id": "IVS7RhnhKGou",
        "outputId": "3e18124e-3d11-4c80-af9b-3e0b122e5a7c"
      },
      "execution_count": 33,
      "outputs": [
        {
          "output_type": "execute_result",
          "data": {
            "text/plain": [
              "              att1         att2         att3         att4         att5  \\\n",
              "count  5000.000000  5000.000000  5000.000000  5000.000000  5000.000000   \n",
              "mean     -0.262476    -1.649511    -2.492211    -3.119443    -3.167438   \n",
              "std       1.152369     1.445493     1.386409     1.302802     1.104382   \n",
              "min      -6.729499    -7.090374    -5.132459    -5.363241    -5.375715   \n",
              "25%      -1.004511    -2.701576    -3.668096    -4.227247    -4.007470   \n",
              "50%      -0.297541    -1.661892    -2.585677    -3.387934    -3.468718   \n",
              "75%       0.500061    -0.677290    -1.513964    -2.235369    -2.530967   \n",
              "max       4.966414     3.479689     2.660597     1.899798     2.147015   \n",
              "\n",
              "              att6         att7         att8         att9        att10  ...  \\\n",
              "count  5000.000000  5000.000000  5000.000000  5000.000000  5000.000000  ...   \n",
              "mean     -2.866308    -2.273126    -1.798127    -1.410124    -0.936082  ...   \n",
              "std       0.906133     0.731627     0.623100     0.637149     0.657945  ...   \n",
              "min      -5.330194    -4.782240    -4.311288    -4.071361    -4.142476  ...   \n",
              "25%      -3.480479    -2.779941    -2.165851    -1.774124    -1.362068  ...   \n",
              "50%      -2.947061    -2.285578    -1.750157    -1.422570    -0.910487  ...   \n",
              "75%      -2.398813    -1.823494    -1.484923    -1.063708    -0.476660  ...   \n",
              "max       1.614375     1.868728     1.804251     1.683730     1.898627  ...   \n",
              "\n",
              "            att132       att133       att134       att135       att136  \\\n",
              "count  5000.000000  5000.000000  5000.000000  5000.000000  5000.000000   \n",
              "mean      0.070973    -0.062914    -0.276206    -0.507667    -0.761043   \n",
              "std       1.404842     1.646585     1.895134     2.059758     2.086218   \n",
              "min      -4.167040    -4.557576    -4.530488    -4.563270    -5.150100   \n",
              "25%      -1.089300    -1.588885    -2.147449    -2.731550    -3.030509   \n",
              "50%       0.658318     0.717808     0.604747     0.334857    -0.030767   \n",
              "75%       1.169420     1.238687     1.264471     1.234433     1.034584   \n",
              "max       3.007606     2.854680     2.912394     2.937685     3.351437   \n",
              "\n",
              "            att137       att138       att139       att140       target  \n",
              "count  5000.000000  5000.000000  5000.000000  5000.000000  5000.000000  \n",
              "mean     -0.834741    -0.642263    -0.487242    -0.706008     1.527400  \n",
              "std       2.056220     1.859296     1.830987     1.414465     0.760372  \n",
              "min      -4.880460    -5.496107    -5.880890    -6.092227     1.000000  \n",
              "25%      -2.868331    -2.153513    -1.657771    -1.596692     1.000000  \n",
              "50%      -0.195151    -0.194423    -0.160262    -0.565588     1.000000  \n",
              "75%       0.945237     0.951681     1.002692     0.272012     2.000000  \n",
              "max       3.432519     3.579448     4.425976     7.402103     5.000000  \n",
              "\n",
              "[8 rows x 141 columns]"
            ],
            "text/html": [
              "\n",
              "  <div id=\"df-a5f14deb-f856-4134-a215-2e61cd0f94c2\" class=\"colab-df-container\">\n",
              "    <div>\n",
              "<style scoped>\n",
              "    .dataframe tbody tr th:only-of-type {\n",
              "        vertical-align: middle;\n",
              "    }\n",
              "\n",
              "    .dataframe tbody tr th {\n",
              "        vertical-align: top;\n",
              "    }\n",
              "\n",
              "    .dataframe thead th {\n",
              "        text-align: right;\n",
              "    }\n",
              "</style>\n",
              "<table border=\"1\" class=\"dataframe\">\n",
              "  <thead>\n",
              "    <tr style=\"text-align: right;\">\n",
              "      <th></th>\n",
              "      <th>att1</th>\n",
              "      <th>att2</th>\n",
              "      <th>att3</th>\n",
              "      <th>att4</th>\n",
              "      <th>att5</th>\n",
              "      <th>att6</th>\n",
              "      <th>att7</th>\n",
              "      <th>att8</th>\n",
              "      <th>att9</th>\n",
              "      <th>att10</th>\n",
              "      <th>...</th>\n",
              "      <th>att132</th>\n",
              "      <th>att133</th>\n",
              "      <th>att134</th>\n",
              "      <th>att135</th>\n",
              "      <th>att136</th>\n",
              "      <th>att137</th>\n",
              "      <th>att138</th>\n",
              "      <th>att139</th>\n",
              "      <th>att140</th>\n",
              "      <th>target</th>\n",
              "    </tr>\n",
              "  </thead>\n",
              "  <tbody>\n",
              "    <tr>\n",
              "      <th>count</th>\n",
              "      <td>5000.000000</td>\n",
              "      <td>5000.000000</td>\n",
              "      <td>5000.000000</td>\n",
              "      <td>5000.000000</td>\n",
              "      <td>5000.000000</td>\n",
              "      <td>5000.000000</td>\n",
              "      <td>5000.000000</td>\n",
              "      <td>5000.000000</td>\n",
              "      <td>5000.000000</td>\n",
              "      <td>5000.000000</td>\n",
              "      <td>...</td>\n",
              "      <td>5000.000000</td>\n",
              "      <td>5000.000000</td>\n",
              "      <td>5000.000000</td>\n",
              "      <td>5000.000000</td>\n",
              "      <td>5000.000000</td>\n",
              "      <td>5000.000000</td>\n",
              "      <td>5000.000000</td>\n",
              "      <td>5000.000000</td>\n",
              "      <td>5000.000000</td>\n",
              "      <td>5000.000000</td>\n",
              "    </tr>\n",
              "    <tr>\n",
              "      <th>mean</th>\n",
              "      <td>-0.262476</td>\n",
              "      <td>-1.649511</td>\n",
              "      <td>-2.492211</td>\n",
              "      <td>-3.119443</td>\n",
              "      <td>-3.167438</td>\n",
              "      <td>-2.866308</td>\n",
              "      <td>-2.273126</td>\n",
              "      <td>-1.798127</td>\n",
              "      <td>-1.410124</td>\n",
              "      <td>-0.936082</td>\n",
              "      <td>...</td>\n",
              "      <td>0.070973</td>\n",
              "      <td>-0.062914</td>\n",
              "      <td>-0.276206</td>\n",
              "      <td>-0.507667</td>\n",
              "      <td>-0.761043</td>\n",
              "      <td>-0.834741</td>\n",
              "      <td>-0.642263</td>\n",
              "      <td>-0.487242</td>\n",
              "      <td>-0.706008</td>\n",
              "      <td>1.527400</td>\n",
              "    </tr>\n",
              "    <tr>\n",
              "      <th>std</th>\n",
              "      <td>1.152369</td>\n",
              "      <td>1.445493</td>\n",
              "      <td>1.386409</td>\n",
              "      <td>1.302802</td>\n",
              "      <td>1.104382</td>\n",
              "      <td>0.906133</td>\n",
              "      <td>0.731627</td>\n",
              "      <td>0.623100</td>\n",
              "      <td>0.637149</td>\n",
              "      <td>0.657945</td>\n",
              "      <td>...</td>\n",
              "      <td>1.404842</td>\n",
              "      <td>1.646585</td>\n",
              "      <td>1.895134</td>\n",
              "      <td>2.059758</td>\n",
              "      <td>2.086218</td>\n",
              "      <td>2.056220</td>\n",
              "      <td>1.859296</td>\n",
              "      <td>1.830987</td>\n",
              "      <td>1.414465</td>\n",
              "      <td>0.760372</td>\n",
              "    </tr>\n",
              "    <tr>\n",
              "      <th>min</th>\n",
              "      <td>-6.729499</td>\n",
              "      <td>-7.090374</td>\n",
              "      <td>-5.132459</td>\n",
              "      <td>-5.363241</td>\n",
              "      <td>-5.375715</td>\n",
              "      <td>-5.330194</td>\n",
              "      <td>-4.782240</td>\n",
              "      <td>-4.311288</td>\n",
              "      <td>-4.071361</td>\n",
              "      <td>-4.142476</td>\n",
              "      <td>...</td>\n",
              "      <td>-4.167040</td>\n",
              "      <td>-4.557576</td>\n",
              "      <td>-4.530488</td>\n",
              "      <td>-4.563270</td>\n",
              "      <td>-5.150100</td>\n",
              "      <td>-4.880460</td>\n",
              "      <td>-5.496107</td>\n",
              "      <td>-5.880890</td>\n",
              "      <td>-6.092227</td>\n",
              "      <td>1.000000</td>\n",
              "    </tr>\n",
              "    <tr>\n",
              "      <th>25%</th>\n",
              "      <td>-1.004511</td>\n",
              "      <td>-2.701576</td>\n",
              "      <td>-3.668096</td>\n",
              "      <td>-4.227247</td>\n",
              "      <td>-4.007470</td>\n",
              "      <td>-3.480479</td>\n",
              "      <td>-2.779941</td>\n",
              "      <td>-2.165851</td>\n",
              "      <td>-1.774124</td>\n",
              "      <td>-1.362068</td>\n",
              "      <td>...</td>\n",
              "      <td>-1.089300</td>\n",
              "      <td>-1.588885</td>\n",
              "      <td>-2.147449</td>\n",
              "      <td>-2.731550</td>\n",
              "      <td>-3.030509</td>\n",
              "      <td>-2.868331</td>\n",
              "      <td>-2.153513</td>\n",
              "      <td>-1.657771</td>\n",
              "      <td>-1.596692</td>\n",
              "      <td>1.000000</td>\n",
              "    </tr>\n",
              "    <tr>\n",
              "      <th>50%</th>\n",
              "      <td>-0.297541</td>\n",
              "      <td>-1.661892</td>\n",
              "      <td>-2.585677</td>\n",
              "      <td>-3.387934</td>\n",
              "      <td>-3.468718</td>\n",
              "      <td>-2.947061</td>\n",
              "      <td>-2.285578</td>\n",
              "      <td>-1.750157</td>\n",
              "      <td>-1.422570</td>\n",
              "      <td>-0.910487</td>\n",
              "      <td>...</td>\n",
              "      <td>0.658318</td>\n",
              "      <td>0.717808</td>\n",
              "      <td>0.604747</td>\n",
              "      <td>0.334857</td>\n",
              "      <td>-0.030767</td>\n",
              "      <td>-0.195151</td>\n",
              "      <td>-0.194423</td>\n",
              "      <td>-0.160262</td>\n",
              "      <td>-0.565588</td>\n",
              "      <td>1.000000</td>\n",
              "    </tr>\n",
              "    <tr>\n",
              "      <th>75%</th>\n",
              "      <td>0.500061</td>\n",
              "      <td>-0.677290</td>\n",
              "      <td>-1.513964</td>\n",
              "      <td>-2.235369</td>\n",
              "      <td>-2.530967</td>\n",
              "      <td>-2.398813</td>\n",
              "      <td>-1.823494</td>\n",
              "      <td>-1.484923</td>\n",
              "      <td>-1.063708</td>\n",
              "      <td>-0.476660</td>\n",
              "      <td>...</td>\n",
              "      <td>1.169420</td>\n",
              "      <td>1.238687</td>\n",
              "      <td>1.264471</td>\n",
              "      <td>1.234433</td>\n",
              "      <td>1.034584</td>\n",
              "      <td>0.945237</td>\n",
              "      <td>0.951681</td>\n",
              "      <td>1.002692</td>\n",
              "      <td>0.272012</td>\n",
              "      <td>2.000000</td>\n",
              "    </tr>\n",
              "    <tr>\n",
              "      <th>max</th>\n",
              "      <td>4.966414</td>\n",
              "      <td>3.479689</td>\n",
              "      <td>2.660597</td>\n",
              "      <td>1.899798</td>\n",
              "      <td>2.147015</td>\n",
              "      <td>1.614375</td>\n",
              "      <td>1.868728</td>\n",
              "      <td>1.804251</td>\n",
              "      <td>1.683730</td>\n",
              "      <td>1.898627</td>\n",
              "      <td>...</td>\n",
              "      <td>3.007606</td>\n",
              "      <td>2.854680</td>\n",
              "      <td>2.912394</td>\n",
              "      <td>2.937685</td>\n",
              "      <td>3.351437</td>\n",
              "      <td>3.432519</td>\n",
              "      <td>3.579448</td>\n",
              "      <td>4.425976</td>\n",
              "      <td>7.402103</td>\n",
              "      <td>5.000000</td>\n",
              "    </tr>\n",
              "  </tbody>\n",
              "</table>\n",
              "<p>8 rows × 141 columns</p>\n",
              "</div>\n",
              "    <div class=\"colab-df-buttons\">\n",
              "\n",
              "  <div class=\"colab-df-container\">\n",
              "    <button class=\"colab-df-convert\" onclick=\"convertToInteractive('df-a5f14deb-f856-4134-a215-2e61cd0f94c2')\"\n",
              "            title=\"Convert this dataframe to an interactive table.\"\n",
              "            style=\"display:none;\">\n",
              "\n",
              "  <svg xmlns=\"http://www.w3.org/2000/svg\" height=\"24px\" viewBox=\"0 -960 960 960\">\n",
              "    <path d=\"M120-120v-720h720v720H120Zm60-500h600v-160H180v160Zm220 220h160v-160H400v160Zm0 220h160v-160H400v160ZM180-400h160v-160H180v160Zm440 0h160v-160H620v160ZM180-180h160v-160H180v160Zm440 0h160v-160H620v160Z\"/>\n",
              "  </svg>\n",
              "    </button>\n",
              "\n",
              "  <style>\n",
              "    .colab-df-container {\n",
              "      display:flex;\n",
              "      gap: 12px;\n",
              "    }\n",
              "\n",
              "    .colab-df-convert {\n",
              "      background-color: #E8F0FE;\n",
              "      border: none;\n",
              "      border-radius: 50%;\n",
              "      cursor: pointer;\n",
              "      display: none;\n",
              "      fill: #1967D2;\n",
              "      height: 32px;\n",
              "      padding: 0 0 0 0;\n",
              "      width: 32px;\n",
              "    }\n",
              "\n",
              "    .colab-df-convert:hover {\n",
              "      background-color: #E2EBFA;\n",
              "      box-shadow: 0px 1px 2px rgba(60, 64, 67, 0.3), 0px 1px 3px 1px rgba(60, 64, 67, 0.15);\n",
              "      fill: #174EA6;\n",
              "    }\n",
              "\n",
              "    .colab-df-buttons div {\n",
              "      margin-bottom: 4px;\n",
              "    }\n",
              "\n",
              "    [theme=dark] .colab-df-convert {\n",
              "      background-color: #3B4455;\n",
              "      fill: #D2E3FC;\n",
              "    }\n",
              "\n",
              "    [theme=dark] .colab-df-convert:hover {\n",
              "      background-color: #434B5C;\n",
              "      box-shadow: 0px 1px 3px 1px rgba(0, 0, 0, 0.15);\n",
              "      filter: drop-shadow(0px 1px 2px rgba(0, 0, 0, 0.3));\n",
              "      fill: #FFFFFF;\n",
              "    }\n",
              "  </style>\n",
              "\n",
              "    <script>\n",
              "      const buttonEl =\n",
              "        document.querySelector('#df-a5f14deb-f856-4134-a215-2e61cd0f94c2 button.colab-df-convert');\n",
              "      buttonEl.style.display =\n",
              "        google.colab.kernel.accessAllowed ? 'block' : 'none';\n",
              "\n",
              "      async function convertToInteractive(key) {\n",
              "        const element = document.querySelector('#df-a5f14deb-f856-4134-a215-2e61cd0f94c2');\n",
              "        const dataTable =\n",
              "          await google.colab.kernel.invokeFunction('convertToInteractive',\n",
              "                                                    [key], {});\n",
              "        if (!dataTable) return;\n",
              "\n",
              "        const docLinkHtml = 'Like what you see? Visit the ' +\n",
              "          '<a target=\"_blank\" href=https://colab.research.google.com/notebooks/data_table.ipynb>data table notebook</a>'\n",
              "          + ' to learn more about interactive tables.';\n",
              "        element.innerHTML = '';\n",
              "        dataTable['output_type'] = 'display_data';\n",
              "        await google.colab.output.renderOutput(dataTable, element);\n",
              "        const docLink = document.createElement('div');\n",
              "        docLink.innerHTML = docLinkHtml;\n",
              "        element.appendChild(docLink);\n",
              "      }\n",
              "    </script>\n",
              "  </div>\n",
              "\n",
              "\n",
              "<div id=\"df-0f85067a-e46e-475e-bd68-c7a14b703b6f\">\n",
              "  <button class=\"colab-df-quickchart\" onclick=\"quickchart('df-0f85067a-e46e-475e-bd68-c7a14b703b6f')\"\n",
              "            title=\"Suggest charts\"\n",
              "            style=\"display:none;\">\n",
              "\n",
              "<svg xmlns=\"http://www.w3.org/2000/svg\" height=\"24px\"viewBox=\"0 0 24 24\"\n",
              "     width=\"24px\">\n",
              "    <g>\n",
              "        <path d=\"M19 3H5c-1.1 0-2 .9-2 2v14c0 1.1.9 2 2 2h14c1.1 0 2-.9 2-2V5c0-1.1-.9-2-2-2zM9 17H7v-7h2v7zm4 0h-2V7h2v10zm4 0h-2v-4h2v4z\"/>\n",
              "    </g>\n",
              "</svg>\n",
              "  </button>\n",
              "\n",
              "<style>\n",
              "  .colab-df-quickchart {\n",
              "      --bg-color: #E8F0FE;\n",
              "      --fill-color: #1967D2;\n",
              "      --hover-bg-color: #E2EBFA;\n",
              "      --hover-fill-color: #174EA6;\n",
              "      --disabled-fill-color: #AAA;\n",
              "      --disabled-bg-color: #DDD;\n",
              "  }\n",
              "\n",
              "  [theme=dark] .colab-df-quickchart {\n",
              "      --bg-color: #3B4455;\n",
              "      --fill-color: #D2E3FC;\n",
              "      --hover-bg-color: #434B5C;\n",
              "      --hover-fill-color: #FFFFFF;\n",
              "      --disabled-bg-color: #3B4455;\n",
              "      --disabled-fill-color: #666;\n",
              "  }\n",
              "\n",
              "  .colab-df-quickchart {\n",
              "    background-color: var(--bg-color);\n",
              "    border: none;\n",
              "    border-radius: 50%;\n",
              "    cursor: pointer;\n",
              "    display: none;\n",
              "    fill: var(--fill-color);\n",
              "    height: 32px;\n",
              "    padding: 0;\n",
              "    width: 32px;\n",
              "  }\n",
              "\n",
              "  .colab-df-quickchart:hover {\n",
              "    background-color: var(--hover-bg-color);\n",
              "    box-shadow: 0 1px 2px rgba(60, 64, 67, 0.3), 0 1px 3px 1px rgba(60, 64, 67, 0.15);\n",
              "    fill: var(--button-hover-fill-color);\n",
              "  }\n",
              "\n",
              "  .colab-df-quickchart-complete:disabled,\n",
              "  .colab-df-quickchart-complete:disabled:hover {\n",
              "    background-color: var(--disabled-bg-color);\n",
              "    fill: var(--disabled-fill-color);\n",
              "    box-shadow: none;\n",
              "  }\n",
              "\n",
              "  .colab-df-spinner {\n",
              "    border: 2px solid var(--fill-color);\n",
              "    border-color: transparent;\n",
              "    border-bottom-color: var(--fill-color);\n",
              "    animation:\n",
              "      spin 1s steps(1) infinite;\n",
              "  }\n",
              "\n",
              "  @keyframes spin {\n",
              "    0% {\n",
              "      border-color: transparent;\n",
              "      border-bottom-color: var(--fill-color);\n",
              "      border-left-color: var(--fill-color);\n",
              "    }\n",
              "    20% {\n",
              "      border-color: transparent;\n",
              "      border-left-color: var(--fill-color);\n",
              "      border-top-color: var(--fill-color);\n",
              "    }\n",
              "    30% {\n",
              "      border-color: transparent;\n",
              "      border-left-color: var(--fill-color);\n",
              "      border-top-color: var(--fill-color);\n",
              "      border-right-color: var(--fill-color);\n",
              "    }\n",
              "    40% {\n",
              "      border-color: transparent;\n",
              "      border-right-color: var(--fill-color);\n",
              "      border-top-color: var(--fill-color);\n",
              "    }\n",
              "    60% {\n",
              "      border-color: transparent;\n",
              "      border-right-color: var(--fill-color);\n",
              "    }\n",
              "    80% {\n",
              "      border-color: transparent;\n",
              "      border-right-color: var(--fill-color);\n",
              "      border-bottom-color: var(--fill-color);\n",
              "    }\n",
              "    90% {\n",
              "      border-color: transparent;\n",
              "      border-bottom-color: var(--fill-color);\n",
              "    }\n",
              "  }\n",
              "</style>\n",
              "\n",
              "  <script>\n",
              "    async function quickchart(key) {\n",
              "      const quickchartButtonEl =\n",
              "        document.querySelector('#' + key + ' button');\n",
              "      quickchartButtonEl.disabled = true;  // To prevent multiple clicks.\n",
              "      quickchartButtonEl.classList.add('colab-df-spinner');\n",
              "      try {\n",
              "        const charts = await google.colab.kernel.invokeFunction(\n",
              "            'suggestCharts', [key], {});\n",
              "      } catch (error) {\n",
              "        console.error('Error during call to suggestCharts:', error);\n",
              "      }\n",
              "      quickchartButtonEl.classList.remove('colab-df-spinner');\n",
              "      quickchartButtonEl.classList.add('colab-df-quickchart-complete');\n",
              "    }\n",
              "    (() => {\n",
              "      let quickchartButtonEl =\n",
              "        document.querySelector('#df-0f85067a-e46e-475e-bd68-c7a14b703b6f button');\n",
              "      quickchartButtonEl.style.display =\n",
              "        google.colab.kernel.accessAllowed ? 'block' : 'none';\n",
              "    })();\n",
              "  </script>\n",
              "</div>\n",
              "\n",
              "    </div>\n",
              "  </div>\n"
            ],
            "application/vnd.google.colaboratory.intrinsic+json": {
              "type": "dataframe"
            }
          },
          "metadata": {},
          "execution_count": 33
        }
      ]
    },
    {
      "cell_type": "code",
      "source": [
        "from sklearn.model_selection import train_test_split"
      ],
      "metadata": {
        "id": "vU4JUisNK6jT"
      },
      "execution_count": 34,
      "outputs": []
    },
    {
      "cell_type": "code",
      "source": [
        "train_data,test_data,train_labels,test_labels=train_test_split(df.values,df.values[:,-1],test_size=0.2,random_state=111)"
      ],
      "metadata": {
        "id": "RDKEV1tCKKKq"
      },
      "execution_count": 36,
      "outputs": []
    },
    {
      "cell_type": "code",
      "source": [
        "from sklearn.preprocessing import MinMaxScaler"
      ],
      "metadata": {
        "id": "j_vJBbmDMNL-"
      },
      "execution_count": 38,
      "outputs": []
    },
    {
      "cell_type": "code",
      "source": [
        "scaler=MinMaxScaler()\n",
        "data_scaled=scaler.fit(train_data)"
      ],
      "metadata": {
        "id": "GjvnGDZDMHjh"
      },
      "execution_count": 40,
      "outputs": []
    },
    {
      "cell_type": "code",
      "source": [
        "train_data_scaled=data_scaled.transform(train_data)\n",
        "test_data_scaled=data_scaled.transform(test_data)"
      ],
      "metadata": {
        "id": "-rypJg0DMLMl"
      },
      "execution_count": 41,
      "outputs": []
    },
    {
      "cell_type": "code",
      "source": [
        "train_data_scaled"
      ],
      "metadata": {
        "colab": {
          "base_uri": "https://localhost:8080/"
        },
        "id": "X2T4Fh7aNKve",
        "outputId": "1d53303f-a194-42e0-d495-8d39ed5f3e66"
      },
      "execution_count": 42,
      "outputs": [
        {
          "output_type": "execute_result",
          "data": {
            "text/plain": [
              "array([[0.50002524, 0.42299659, 0.16544622, ..., 0.58388556, 0.3649298 ,\n",
              "        0.        ],\n",
              "       [0.48602565, 0.31200637, 0.10347709, ..., 0.6676527 , 0.40538671,\n",
              "        0.        ],\n",
              "       [0.6760041 , 0.6161329 , 0.32423629, ..., 0.64562905, 0.43438114,\n",
              "        0.        ],\n",
              "       ...,\n",
              "       [0.70698484, 0.7982501 , 0.77487296, ..., 0.31421167, 0.37774737,\n",
              "        0.25      ],\n",
              "       [0.46498254, 0.25827775, 0.07491123, ..., 0.66453824, 0.47717869,\n",
              "        0.        ],\n",
              "       [0.69314707, 0.79831145, 0.82004413, ..., 0.61110713, 0.53512758,\n",
              "        0.25      ]])"
            ]
          },
          "metadata": {},
          "execution_count": 42
        }
      ]
    },
    {
      "cell_type": "code",
      "source": [
        "normal_train_data=pd.DataFrame(train_data_scaled).add_prefix('att').query('att140==0').values[:,0:140]\n",
        "anamaly_train_data=pd.DataFrame(train_data_scaled).add_prefix('att').query('att140>0').values[:,0:140]\n"
      ],
      "metadata": {
        "id": "WaguGgyBNXFl"
      },
      "execution_count": 52,
      "outputs": []
    },
    {
      "cell_type": "code",
      "source": [
        "normal_test_data=pd.DataFrame(test_data_scaled).add_prefix('att').query('att140==0').values[:,0:140]\n",
        "anamaly_test_data=pd.DataFrame(test_data_scaled).add_prefix('att').query('att140>0').values[:,0:140]\n"
      ],
      "metadata": {
        "id": "HbZc6l3yQWAt"
      },
      "execution_count": 54,
      "outputs": []
    },
    {
      "cell_type": "code",
      "source": [
        "print(normal_train_data.shape)\n",
        "print(normal_test_data.shape)"
      ],
      "metadata": {
        "colab": {
          "base_uri": "https://localhost:8080/"
        },
        "id": "B2sNA5C0P2OI",
        "outputId": "b5e9f9ea-9f96-43d7-e665-bacb6e20bf38"
      },
      "execution_count": 56,
      "outputs": [
        {
          "output_type": "stream",
          "name": "stdout",
          "text": [
            "(2356, 140)\n",
            "(563, 140)\n"
          ]
        }
      ]
    },
    {
      "cell_type": "code",
      "source": [
        "print(anamaly_train_data.shape)\n",
        "print(anamaly_test_data.shape)"
      ],
      "metadata": {
        "colab": {
          "base_uri": "https://localhost:8080/"
        },
        "id": "oLeD8mMiQnqs",
        "outputId": "b89e462b-c3a7-49c9-d506-2d9cede4e01f"
      },
      "execution_count": 57,
      "outputs": [
        {
          "output_type": "stream",
          "name": "stdout",
          "text": [
            "(1644, 140)\n",
            "(437, 140)\n"
          ]
        }
      ]
    },
    {
      "cell_type": "code",
      "source": [
        "plt.plot(normal_train_data[0])\n",
        "plt.plot(normal_train_data[1])\n",
        "plt.plot(normal_train_data[2])"
      ],
      "metadata": {
        "colab": {
          "base_uri": "https://localhost:8080/",
          "height": 693
        },
        "id": "T2EwX6e0Q8CL",
        "outputId": "c1977c59-7cc0-4576-8c65-1427b63bf0af"
      },
      "execution_count": 58,
      "outputs": [
        {
          "output_type": "execute_result",
          "data": {
            "text/plain": [
              "[<matplotlib.lines.Line2D at 0x7d8be39e2920>]"
            ]
          },
          "metadata": {},
          "execution_count": 58
        },
        {
          "output_type": "display_data",
          "data": {
            "text/plain": [
              "<Figure size 1000x800 with 1 Axes>"
            ],
            "image/png": "[encoded data removed]"
          },
          "metadata": {}
        }
      ]
    },
    {
      "cell_type": "code",
      "source": [
        "plt.plot(anamaly_train_data[0])\n",
        "plt.plot(anamaly_train_data[1])\n",
        "plt.plot(anamaly_train_data[2])"
      ],
      "metadata": {
        "colab": {
          "base_uri": "https://localhost:8080/",
          "height": 693
        },
        "id": "5mUH4Me_REfp",
        "outputId": "69a02ac3-7b95-467d-c04c-890ae9efbcd6"
      },
      "execution_count": 59,
      "outputs": [
        {
          "output_type": "execute_result",
          "data": {
            "text/plain": [
              "[<matplotlib.lines.Line2D at 0x7d8be29d94b0>]"
            ]
          },
          "metadata": {},
          "execution_count": 59
        },
        {
          "output_type": "display_data",
          "data": {
            "text/plain": [
              "<Figure size 1000x800 with 1 Axes>"
            ],
            "image/png": "[encoded data removed]"
          },
          "metadata": {}
        }
      ]
    },
    {
      "cell_type": "code",
      "source": [
        "model=tf.keras.Sequential()\n",
        "model.add(tf.keras.layers. Dense (64, activation= 'relu'))\n",
        "model.add(tf.keras.layers.Dense(32, activation ='relu'))\n",
        "model.add(tf.keras.layers.Dense(16, activation ='relu'))\n",
        "model.add(tf.keras.layers.Dense(8, activation ='relu'))\n",
        "model.add(tf.keras.layers.Dense(16, activation='relu'))\n",
        "model.add(tf.keras.layers. Dense(32, activation='relu'))\n",
        "model.add(tf.keras.layers.Dense(64, activation='relu'))\n",
        "model.add(tf.keras.layers.Dense(140, activation='sigmoid'))"
      ],
      "metadata": {
        "id": "3EgvRCn5SHbt"
      },
      "execution_count": 61,
      "outputs": []
    },
    {
      "cell_type": "code",
      "source": [
        "import tensorflow as tf\n",
        "from tensorflow.keras import Model\n",
        "\n",
        "class AutoEncoder(Model):\n",
        "    def __init__(self):  # Correct the method name to __init__\n",
        "        super(AutoEncoder, self).__init__()\n",
        "\n",
        "        # Define the encoder part of the autoencoder\n",
        "        self.encoder = tf.keras.Sequential([\n",
        "            tf.keras.layers.Dense(64, activation=\"relu\"),\n",
        "            tf.keras.layers.Dense(32, activation=\"relu\"),\n",
        "            tf.keras.layers.Dense(16, activation=\"relu\"),\n",
        "            tf.keras.layers.Dense(8, activation=\"relu\")\n",
        "        ])\n",
        "\n",
        "        # Define the decoder part of the autoencoder\n",
        "        self.decoder = tf.keras.Sequential([\n",
        "            tf.keras.layers.Dense(16, activation=\"relu\"),\n",
        "            tf.keras.layers.Dense(32, activation=\"relu\"),\n",
        "            tf.keras.layers.Dense(64, activation=\"relu\"),\n",
        "            tf.keras.layers.Dense(140, activation=\"sigmoid\")\n",
        "        ])\n",
        "\n",
        "    def call(self, x):\n",
        "        encoded = self.encoder(x)\n",
        "        decoded = self.decoder(encoded)\n",
        "        return decoded\n"
      ],
      "metadata": {
        "id": "Y8o2hpjLTaPY"
      },
      "execution_count": 62,
      "outputs": []
    },
    {
      "cell_type": "code",
      "source": [
        "model=AutoEncoder()\n",
        "early_stopping=tf.keras.callbacks.EarlyStopping(monitor=\"val_cross\",patience=2,mode=\"min\"\n",
        "                                                )\n",
        "model.compile(optimizer=\"adam\",loss=\"mae\")"
      ],
      "metadata": {
        "id": "Q8YCuJVjUd5Y"
      },
      "execution_count": 64,
      "outputs": []
    },
    {
      "cell_type": "code",
      "source": [
        "history=model.fit(normal_train_data,normal_train_data,epochs=50,\n",
        "                  batch_size=128,\n",
        "                  validation_data=(train_data_scaled[:,0:140],train_data_scaled[:,0:140]),\n",
        "                  shuffle=True,callbacks=[early_stopping])"
      ],
      "metadata": {
        "colab": {
          "base_uri": "https://localhost:8080/"
        },
        "id": "6GfRlD7LVbVy",
        "outputId": "247c1d63-1d08-4ac6-ea8b-0261fd4ec268"
      },
      "execution_count": 66,
      "outputs": [
        {
          "output_type": "stream",
          "name": "stdout",
          "text": [
            "Epoch 1/50\n",
            "\u001b[1m19/19\u001b[0m \u001b[32m━━━━━━━━━━━━━━━━━━━━\u001b[0m\u001b[37m\u001b[0m \u001b[1m0s\u001b[0m 9ms/step - loss: 0.0250 - val_loss: 0.0510\n",
            "Epoch 2/50\n",
            "\u001b[1m19/19\u001b[0m \u001b[32m━━━━━━━━━━━━━━━━━━━━\u001b[0m\u001b[37m\u001b[0m \u001b[1m0s\u001b[0m 6ms/step - loss: 0.0258 - val_loss: 0.0506\n",
            "Epoch 3/50\n",
            "\u001b[1m19/19\u001b[0m \u001b[32m━━━━━━━━━━━━━━━━━━━━\u001b[0m\u001b[37m\u001b[0m \u001b[1m0s\u001b[0m 7ms/step - loss: 0.0255 - val_loss: 0.0504\n",
            "Epoch 4/50\n",
            "\u001b[1m19/19\u001b[0m \u001b[32m━━━━━━━━━━━━━━━━━━━━\u001b[0m\u001b[37m\u001b[0m \u001b[1m0s\u001b[0m 5ms/step - loss: 0.0252 - val_loss: 0.0506\n",
            "Epoch 5/50\n",
            "\u001b[1m19/19\u001b[0m \u001b[32m━━━━━━━━━━━━━━━━━━━━\u001b[0m\u001b[37m\u001b[0m \u001b[1m0s\u001b[0m 5ms/step - loss: 0.0249 - val_loss: 0.0502\n",
            "Epoch 6/50\n",
            "\u001b[1m19/19\u001b[0m \u001b[32m━━━━━━━━━━━━━━━━━━━━\u001b[0m\u001b[37m\u001b[0m \u001b[1m0s\u001b[0m 5ms/step - loss: 0.0247 - val_loss: 0.0501\n",
            "Epoch 7/50\n",
            "\u001b[1m19/19\u001b[0m \u001b[32m━━━━━━━━━━━━━━━━━━━━\u001b[0m\u001b[37m\u001b[0m \u001b[1m0s\u001b[0m 6ms/step - loss: 0.0248 - val_loss: 0.0499\n",
            "Epoch 8/50\n",
            "\u001b[1m19/19\u001b[0m \u001b[32m━━━━━━━━━━━━━━━━━━━━\u001b[0m\u001b[37m\u001b[0m \u001b[1m0s\u001b[0m 6ms/step - loss: 0.0244 - val_loss: 0.0502\n",
            "Epoch 9/50\n",
            "\u001b[1m19/19\u001b[0m \u001b[32m━━━━━━━━━━━━━━━━━━━━\u001b[0m\u001b[37m\u001b[0m \u001b[1m0s\u001b[0m 6ms/step - loss: 0.0251 - val_loss: 0.0496\n",
            "Epoch 10/50\n",
            "\u001b[1m19/19\u001b[0m \u001b[32m━━━━━━━━━━━━━━━━━━━━\u001b[0m\u001b[37m\u001b[0m \u001b[1m0s\u001b[0m 5ms/step - loss: 0.0246 - val_loss: 0.0500\n",
            "Epoch 11/50\n",
            "\u001b[1m19/19\u001b[0m \u001b[32m━━━━━━━━━━━━━━━━━━━━\u001b[0m\u001b[37m\u001b[0m \u001b[1m0s\u001b[0m 7ms/step - loss: 0.0247 - val_loss: 0.0502\n",
            "Epoch 12/50\n",
            "\u001b[1m19/19\u001b[0m \u001b[32m━━━━━━━━━━━━━━━━━━━━\u001b[0m\u001b[37m\u001b[0m \u001b[1m0s\u001b[0m 5ms/step - loss: 0.0241 - val_loss: 0.0495\n",
            "Epoch 13/50\n",
            "\u001b[1m19/19\u001b[0m \u001b[32m━━━━━━━━━━━━━━━━━━━━\u001b[0m\u001b[37m\u001b[0m \u001b[1m0s\u001b[0m 7ms/step - loss: 0.0243 - val_loss: 0.0492\n",
            "Epoch 14/50\n",
            "\u001b[1m19/19\u001b[0m \u001b[32m━━━━━━━━━━━━━━━━━━━━\u001b[0m\u001b[37m\u001b[0m \u001b[1m0s\u001b[0m 8ms/step - loss: 0.0244 - val_loss: 0.0497\n",
            "Epoch 15/50\n",
            "\u001b[1m19/19\u001b[0m \u001b[32m━━━━━━━━━━━━━━━━━━━━\u001b[0m\u001b[37m\u001b[0m \u001b[1m0s\u001b[0m 7ms/step - loss: 0.0243 - val_loss: 0.0493\n",
            "Epoch 16/50\n",
            "\u001b[1m19/19\u001b[0m \u001b[32m━━━━━━━━━━━━━━━━━━━━\u001b[0m\u001b[37m\u001b[0m \u001b[1m0s\u001b[0m 5ms/step - loss: 0.0238 - val_loss: 0.0493\n",
            "Epoch 17/50\n",
            "\u001b[1m19/19\u001b[0m \u001b[32m━━━━━━━━━━━━━━━━━━━━\u001b[0m\u001b[37m\u001b[0m \u001b[1m0s\u001b[0m 7ms/step - loss: 0.0243 - val_loss: 0.0498\n",
            "Epoch 18/50\n",
            "\u001b[1m19/19\u001b[0m \u001b[32m━━━━━━━━━━━━━━━━━━━━\u001b[0m\u001b[37m\u001b[0m \u001b[1m0s\u001b[0m 5ms/step - loss: 0.0244 - val_loss: 0.0494\n",
            "Epoch 19/50\n",
            "\u001b[1m19/19\u001b[0m \u001b[32m━━━━━━━━━━━━━━━━━━━━\u001b[0m\u001b[37m\u001b[0m \u001b[1m0s\u001b[0m 6ms/step - loss: 0.0241 - val_loss: 0.0489\n",
            "Epoch 20/50\n",
            "\u001b[1m19/19\u001b[0m \u001b[32m━━━━━━━━━━━━━━━━━━━━\u001b[0m\u001b[37m\u001b[0m \u001b[1m0s\u001b[0m 6ms/step - loss: 0.0241 - val_loss: 0.0490\n",
            "Epoch 21/50\n",
            "\u001b[1m19/19\u001b[0m \u001b[32m━━━━━━━━━━━━━━━━━━━━\u001b[0m\u001b[37m\u001b[0m \u001b[1m0s\u001b[0m 7ms/step - loss: 0.0239 - val_loss: 0.0493\n",
            "Epoch 22/50\n",
            "\u001b[1m19/19\u001b[0m \u001b[32m━━━━━━━━━━━━━━━━━━━━\u001b[0m\u001b[37m\u001b[0m \u001b[1m0s\u001b[0m 6ms/step - loss: 0.0236 - val_loss: 0.0489\n",
            "Epoch 23/50\n",
            "\u001b[1m19/19\u001b[0m \u001b[32m━━━━━━━━━━━━━━━━━━━━\u001b[0m\u001b[37m\u001b[0m \u001b[1m0s\u001b[0m 5ms/step - loss: 0.0236 - val_loss: 0.0494\n",
            "Epoch 24/50\n",
            "\u001b[1m19/19\u001b[0m \u001b[32m━━━━━━━━━━━━━━━━━━━━\u001b[0m\u001b[37m\u001b[0m \u001b[1m0s\u001b[0m 5ms/step - loss: 0.0240 - val_loss: 0.0488\n",
            "Epoch 25/50\n",
            "\u001b[1m19/19\u001b[0m \u001b[32m━━━━━━━━━━━━━━━━━━━━\u001b[0m\u001b[37m\u001b[0m \u001b[1m0s\u001b[0m 5ms/step - loss: 0.0233 - val_loss: 0.0493\n",
            "Epoch 26/50\n",
            "\u001b[1m19/19\u001b[0m \u001b[32m━━━━━━━━━━━━━━━━━━━━\u001b[0m\u001b[37m\u001b[0m \u001b[1m0s\u001b[0m 7ms/step - loss: 0.0231 - val_loss: 0.0492\n",
            "Epoch 27/50\n",
            "\u001b[1m19/19\u001b[0m \u001b[32m━━━━━━━━━━━━━━━━━━━━\u001b[0m\u001b[37m\u001b[0m \u001b[1m0s\u001b[0m 7ms/step - loss: 0.0238 - val_loss: 0.0492\n",
            "Epoch 28/50\n",
            "\u001b[1m19/19\u001b[0m \u001b[32m━━━━━━━━━━━━━━━━━━━━\u001b[0m\u001b[37m\u001b[0m \u001b[1m0s\u001b[0m 7ms/step - loss: 0.0234 - val_loss: 0.0490\n",
            "Epoch 29/50\n",
            "\u001b[1m19/19\u001b[0m \u001b[32m━━━━━━━━━━━━━━━━━━━━\u001b[0m\u001b[37m\u001b[0m \u001b[1m0s\u001b[0m 7ms/step - loss: 0.0233 - val_loss: 0.0486\n",
            "Epoch 30/50\n",
            "\u001b[1m19/19\u001b[0m \u001b[32m━━━━━━━━━━━━━━━━━━━━\u001b[0m\u001b[37m\u001b[0m \u001b[1m0s\u001b[0m 8ms/step - loss: 0.0239 - val_loss: 0.0488\n",
            "Epoch 31/50\n",
            "\u001b[1m19/19\u001b[0m \u001b[32m━━━━━━━━━━━━━━━━━━━━\u001b[0m\u001b[37m\u001b[0m \u001b[1m0s\u001b[0m 8ms/step - loss: 0.0235 - val_loss: 0.0485\n",
            "Epoch 32/50\n",
            "\u001b[1m19/19\u001b[0m \u001b[32m━━━━━━━━━━━━━━━━━━━━\u001b[0m\u001b[37m\u001b[0m \u001b[1m0s\u001b[0m 8ms/step - loss: 0.0236 - val_loss: 0.0483\n",
            "Epoch 33/50\n",
            "\u001b[1m19/19\u001b[0m \u001b[32m━━━━━━━━━━━━━━━━━━━━\u001b[0m\u001b[37m\u001b[0m \u001b[1m0s\u001b[0m 9ms/step - loss: 0.0231 - val_loss: 0.0492\n",
            "Epoch 34/50\n",
            "\u001b[1m19/19\u001b[0m \u001b[32m━━━━━━━━━━━━━━━━━━━━\u001b[0m\u001b[37m\u001b[0m \u001b[1m0s\u001b[0m 8ms/step - loss: 0.0233 - val_loss: 0.0483\n",
            "Epoch 35/50\n",
            "\u001b[1m19/19\u001b[0m \u001b[32m━━━━━━━━━━━━━━━━━━━━\u001b[0m\u001b[37m\u001b[0m \u001b[1m0s\u001b[0m 9ms/step - loss: 0.0232 - val_loss: 0.0486\n",
            "Epoch 36/50\n",
            "\u001b[1m19/19\u001b[0m \u001b[32m━━━━━━━━━━━━━━━━━━━━\u001b[0m\u001b[37m\u001b[0m \u001b[1m0s\u001b[0m 10ms/step - loss: 0.0234 - val_loss: 0.0484\n",
            "Epoch 37/50\n",
            "\u001b[1m19/19\u001b[0m \u001b[32m━━━━━━━━━━━━━━━━━━━━\u001b[0m\u001b[37m\u001b[0m \u001b[1m0s\u001b[0m 9ms/step - loss: 0.0232 - val_loss: 0.0483\n",
            "Epoch 38/50\n",
            "\u001b[1m19/19\u001b[0m \u001b[32m━━━━━━━━━━━━━━━━━━━━\u001b[0m\u001b[37m\u001b[0m \u001b[1m0s\u001b[0m 11ms/step - loss: 0.0227 - val_loss: 0.0482\n",
            "Epoch 39/50\n",
            "\u001b[1m19/19\u001b[0m \u001b[32m━━━━━━━━━━━━━━━━━━━━\u001b[0m\u001b[37m\u001b[0m \u001b[1m0s\u001b[0m 9ms/step - loss: 0.0233 - val_loss: 0.0479\n",
            "Epoch 40/50\n",
            "\u001b[1m19/19\u001b[0m \u001b[32m━━━━━━━━━━━━━━━━━━━━\u001b[0m\u001b[37m\u001b[0m \u001b[1m0s\u001b[0m 7ms/step - loss: 0.0232 - val_loss: 0.0480\n",
            "Epoch 41/50\n",
            "\u001b[1m19/19\u001b[0m \u001b[32m━━━━━━━━━━━━━━━━━━━━\u001b[0m\u001b[37m\u001b[0m \u001b[1m0s\u001b[0m 5ms/step - loss: 0.0229 - val_loss: 0.0478\n",
            "Epoch 42/50\n",
            "\u001b[1m19/19\u001b[0m \u001b[32m━━━━━━━━━━━━━━━━━━━━\u001b[0m\u001b[37m\u001b[0m \u001b[1m0s\u001b[0m 5ms/step - loss: 0.0227 - val_loss: 0.0478\n",
            "Epoch 43/50\n",
            "\u001b[1m19/19\u001b[0m \u001b[32m━━━━━━━━━━━━━━━━━━━━\u001b[0m\u001b[37m\u001b[0m \u001b[1m0s\u001b[0m 7ms/step - loss: 0.0229 - val_loss: 0.0476\n",
            "Epoch 44/50\n",
            "\u001b[1m19/19\u001b[0m \u001b[32m━━━━━━━━━━━━━━━━━━━━\u001b[0m\u001b[37m\u001b[0m \u001b[1m0s\u001b[0m 5ms/step - loss: 0.0226 - val_loss: 0.0475\n",
            "Epoch 45/50\n",
            "\u001b[1m19/19\u001b[0m \u001b[32m━━━━━━━━━━━━━━━━━━━━\u001b[0m\u001b[37m\u001b[0m \u001b[1m0s\u001b[0m 5ms/step - loss: 0.0227 - val_loss: 0.0473\n",
            "Epoch 46/50\n",
            "\u001b[1m19/19\u001b[0m \u001b[32m━━━━━━━━━━━━━━━━━━━━\u001b[0m\u001b[37m\u001b[0m \u001b[1m0s\u001b[0m 6ms/step - loss: 0.0228 - val_loss: 0.0471\n",
            "Epoch 47/50\n",
            "\u001b[1m19/19\u001b[0m \u001b[32m━━━━━━━━━━━━━━━━━━━━\u001b[0m\u001b[37m\u001b[0m \u001b[1m0s\u001b[0m 6ms/step - loss: 0.0225 - val_loss: 0.0472\n",
            "Epoch 48/50\n",
            "\u001b[1m19/19\u001b[0m \u001b[32m━━━━━━━━━━━━━━━━━━━━\u001b[0m\u001b[37m\u001b[0m \u001b[1m0s\u001b[0m 7ms/step - loss: 0.0225 - val_loss: 0.0468\n",
            "Epoch 49/50\n",
            "\u001b[1m19/19\u001b[0m \u001b[32m━━━━━━━━━━━━━━━━━━━━\u001b[0m\u001b[37m\u001b[0m \u001b[1m0s\u001b[0m 7ms/step - loss: 0.0224 - val_loss: 0.0467\n",
            "Epoch 50/50\n",
            "\u001b[1m19/19\u001b[0m \u001b[32m━━━━━━━━━━━━━━━━━━━━\u001b[0m\u001b[37m\u001b[0m \u001b[1m0s\u001b[0m 6ms/step - loss: 0.0226 - val_loss: 0.0465\n"
          ]
        }
      ]
    },
    {
      "cell_type": "code",
      "source": [
        "encoder_out=model.encoder(normal_test_data).numpy()\n",
        "decoder_out=model.decoder(encoder_out).numpy()\n",
        "\n"
      ],
      "metadata": {
        "id": "71iC0Xh9Wt-R"
      },
      "execution_count": 68,
      "outputs": []
    },
    {
      "cell_type": "code",
      "source": [
        "encoder_out.shape"
      ],
      "metadata": {
        "colab": {
          "base_uri": "https://localhost:8080/"
        },
        "id": "YniXWhAeXTEI",
        "outputId": "4735dda5-32a2-478b-f0aa-b903f8be38b1"
      },
      "execution_count": 69,
      "outputs": [
        {
          "output_type": "execute_result",
          "data": {
            "text/plain": [
              "(563, 8)"
            ]
          },
          "metadata": {},
          "execution_count": 69
        }
      ]
    },
    {
      "cell_type": "code",
      "source": [
        "decoder_out.shape"
      ],
      "metadata": {
        "colab": {
          "base_uri": "https://localhost:8080/"
        },
        "id": "eVxIRJHxXWiv",
        "outputId": "2c9f3aca-14e9-43b7-88b3-6d28a34e3787"
      },
      "execution_count": 70,
      "outputs": [
        {
          "output_type": "execute_result",
          "data": {
            "text/plain": [
              "(563, 140)"
            ]
          },
          "metadata": {},
          "execution_count": 70
        }
      ]
    },
    {
      "cell_type": "code",
      "source": [
        "plt.plot(normal_test_data[0],'b')\n",
        "plt.plot(decoder_out[0],'r')"
      ],
      "metadata": {
        "colab": {
          "base_uri": "https://localhost:8080/",
          "height": 693
        },
        "id": "-PbGbuwFXi_g",
        "outputId": "b88c289c-7921-4bd1-eafb-8e4bf20385fd"
      },
      "execution_count": 71,
      "outputs": [
        {
          "output_type": "execute_result",
          "data": {
            "text/plain": [
              "[<matplotlib.lines.Line2D at 0x7d8bd009c580>]"
            ]
          },
          "metadata": {},
          "execution_count": 71
        },
        {
          "output_type": "display_data",
          "data": {
            "text/plain": [
              "<Figure size 1000x800 with 1 Axes>"
            ],
            "image/png": "[encoded data removed]"
          },
          "metadata": {}
        }
      ]
    },
    {
      "cell_type": "code",
      "source": [
        "encoder_out=model.encoder(anamaly_test_data).numpy()\n",
        "decoder_out=model.decoder(encoder_out).numpy()\n",
        "\n"
      ],
      "metadata": {
        "id": "eNrqarVpX64S"
      },
      "execution_count": 72,
      "outputs": []
    },
    {
      "cell_type": "code",
      "source": [
        "plt.plot(anamaly_test_data[0],'b')\n",
        "plt.plot(decoder_out[0],'r')"
      ],
      "metadata": {
        "colab": {
          "base_uri": "https://localhost:8080/",
          "height": 693
        },
        "id": "NYnTZpzwYRf4",
        "outputId": "44eef2c0-06d6-4655-e110-93b1ae69c40d"
      },
      "execution_count": 73,
      "outputs": [
        {
          "output_type": "execute_result",
          "data": {
            "text/plain": [
              "[<matplotlib.lines.Line2D at 0x7d8bd0124400>]"
            ]
          },
          "metadata": {},
          "execution_count": 73
        },
        {
          "output_type": "display_data",
          "data": {
            "text/plain": [
              "<Figure size 1000x800 with 1 Axes>"
            ],
            "image/png": "[encoded data removed]"
          },
          "metadata": {}
        }
      ]
    },
    {
      "cell_type": "code",
      "source": [
        "reconstructions=model.predict(normal_test_data)\n",
        "train_loss=tf.keras.losses.mae(reconstructions,normal_test_data)\n",
        "plt.hist(train_loss,bins=50)"
      ],
      "metadata": {
        "colab": {
          "base_uri": "https://localhost:8080/",
          "height": 971
        },
        "id": "E3gYrQTRYZky",
        "outputId": "8fdaf007-ea4b-4edf-eff9-12f9d42120aa"
      },
      "execution_count": 116,
      "outputs": [
        {
          "output_type": "stream",
          "name": "stdout",
          "text": [
            "\u001b[1m18/18\u001b[0m \u001b[32m━━━━━━━━━━━━━━━━━━━━\u001b[0m\u001b[37m\u001b[0m \u001b[1m0s\u001b[0m 2ms/step \n"
          ]
        },
        {
          "output_type": "execute_result",
          "data": {
            "text/plain": [
              "(array([ 8., 21., 53., 53., 72., 56., 48., 55., 35., 30., 30., 14., 17.,\n",
              "        12., 12., 10.,  7.,  8.,  2.,  0.,  1.,  5.,  1.,  0.,  2.,  1.,\n",
              "         2.,  0.,  2.,  1.,  0.,  0.,  1.,  0.,  0.,  0.,  0.,  1.,  1.,\n",
              "         0.,  0.,  0.,  0.,  0.,  0.,  0.,  0.,  0.,  1.,  1.]),\n",
              " array([0.00957728, 0.01121338, 0.01284948, 0.01448558, 0.01612167,\n",
              "        0.01775777, 0.01939387, 0.02102996, 0.02266606, 0.02430216,\n",
              "        0.02593825, 0.02757435, 0.02921045, 0.03084654, 0.03248264,\n",
              "        0.03411874, 0.03575483, 0.03739093, 0.03902703, 0.04066312,\n",
              "        0.04229922, 0.04393532, 0.04557141, 0.04720751, 0.04884361,\n",
              "        0.0504797 , 0.0521158 , 0.0537519 , 0.05538799, 0.05702409,\n",
              "        0.05866019, 0.06029628, 0.06193238, 0.06356848, 0.06520457,\n",
              "        0.06684067, 0.06847677, 0.07011286, 0.07174896, 0.07338506,\n",
              "        0.07502115, 0.07665725, 0.07829335, 0.07992944, 0.08156554,\n",
              "        0.08320164, 0.08483774, 0.08647383, 0.08810993, 0.08974603,\n",
              "        0.09138212]),\n",
              " <BarContainer object of 50 artists>)"
            ]
          },
          "metadata": {},
          "execution_count": 116
        },
        {
          "output_type": "display_data",
          "data": {
            "text/plain": [
              "<Figure size 1000x800 with 1 Axes>"
            ],
            "image/png": "[encoded data removed]"
          },
          "metadata": {}
        }
      ]
    },
    {
      "cell_type": "code",
      "source": [
        "np.mean(train_loss)"
      ],
      "metadata": {
        "colab": {
          "base_uri": "https://localhost:8080/"
        },
        "id": "TIohuCxEY8yS",
        "outputId": "c2d47e7b-5dcd-4012-deb1-f5c400258ea1"
      },
      "execution_count": 117,
      "outputs": [
        {
          "output_type": "execute_result",
          "data": {
            "text/plain": [
              "0.022181005139601178"
            ]
          },
          "metadata": {},
          "execution_count": 117
        }
      ]
    },
    {
      "cell_type": "code",
      "source": [
        "np.std(train_loss)"
      ],
      "metadata": {
        "colab": {
          "base_uri": "https://localhost:8080/"
        },
        "id": "gbKP233QZGJ8",
        "outputId": "fbeb4897-3919-4840-cbac-f2ea687488be"
      },
      "execution_count": 118,
      "outputs": [
        {
          "output_type": "execute_result",
          "data": {
            "text/plain": [
              "0.009456798933132221"
            ]
          },
          "metadata": {},
          "execution_count": 118
        }
      ]
    },
    {
      "cell_type": "code",
      "source": [
        "thresold=np.mean(train_loss)+2*np.std(train_loss)"
      ],
      "metadata": {
        "id": "kq-_Hs4zZN-Z"
      },
      "execution_count": 119,
      "outputs": []
    },
    {
      "cell_type": "code",
      "source": [
        "thresold"
      ],
      "metadata": {
        "colab": {
          "base_uri": "https://localhost:8080/"
        },
        "id": "AXM3mVVDZb00",
        "outputId": "8b1062f4-c4cd-458c-9db2-639895cd13bd"
      },
      "execution_count": 120,
      "outputs": [
        {
          "output_type": "execute_result",
          "data": {
            "text/plain": [
              "0.04109460300586562"
            ]
          },
          "metadata": {},
          "execution_count": 120
        }
      ]
    },
    {
      "cell_type": "code",
      "source": [
        "reconstructions_a=model.predict(anamaly_test_data)\n",
        "train_loss_a=tf.keras.losses.mae(reconstructions_a,anamaly_test_data)\n",
        "plt.hist(train_loss_a,bins=50)"
      ],
      "metadata": {
        "colab": {
          "base_uri": "https://localhost:8080/",
          "height": 972
        },
        "id": "sUagzwhXZtYq",
        "outputId": "8d3f9c67-7439-4f79-a4be-8b3092ca9145"
      },
      "execution_count": 121,
      "outputs": [
        {
          "output_type": "stream",
          "name": "stdout",
          "text": [
            "\u001b[1m14/14\u001b[0m \u001b[32m━━━━━━━━━━━━━━━━━━━━\u001b[0m\u001b[37m\u001b[0m \u001b[1m0s\u001b[0m 2ms/step \n"
          ]
        },
        {
          "output_type": "execute_result",
          "data": {
            "text/plain": [
              "(array([ 1.,  1.,  0.,  2.,  2.,  4.,  4.,  5.,  8.,  7., 15., 19., 25.,\n",
              "        47., 48., 47., 47., 34., 38., 34., 18., 11.,  5.,  2.,  1.,  0.,\n",
              "         0.,  1.,  0.,  3.,  0.,  1.,  0.,  0.,  1.,  0.,  1.,  1.,  1.,\n",
              "         1.,  0.,  0.,  1.,  0.,  0.,  0.,  0.,  0.,  0.,  1.]),\n",
              " array([0.02916816, 0.03243192, 0.03569567, 0.03895943, 0.04222319,\n",
              "        0.04548695, 0.04875071, 0.05201447, 0.05527823, 0.05854199,\n",
              "        0.06180575, 0.06506951, 0.06833327, 0.07159703, 0.07486079,\n",
              "        0.07812455, 0.0813883 , 0.08465206, 0.08791582, 0.09117958,\n",
              "        0.09444334, 0.0977071 , 0.10097086, 0.10423462, 0.10749838,\n",
              "        0.11076214, 0.1140259 , 0.11728966, 0.12055342, 0.12381718,\n",
              "        0.12708094, 0.13034469, 0.13360845, 0.13687221, 0.14013597,\n",
              "        0.14339973, 0.14666349, 0.14992725, 0.15319101, 0.15645477,\n",
              "        0.15971853, 0.16298229, 0.16624605, 0.16950981, 0.17277357,\n",
              "        0.17603733, 0.17930108, 0.18256484, 0.1858286 , 0.18909236,\n",
              "        0.19235612]),\n",
              " <BarContainer object of 50 artists>)"
            ]
          },
          "metadata": {},
          "execution_count": 121
        },
        {
          "output_type": "display_data",
          "data": {
            "text/plain": [
              "<Figure size 1000x800 with 1 Axes>"
            ],
            "image/png": "[encoded data removed]"
          },
          "metadata": {}
        }
      ]
    },
    {
      "cell_type": "code",
      "source": [
        "plt.hist(train_loss, bins=50, alpha=0.2, label=\"Normal\")\n",
        "plt.hist(train_loss_a, bins=50, alpha=0.2, label=\"Anomaly\")\n",
        "\n",
        "# Add a vertical line for the threshold\n",
        "plt.axvline(thresold, color='r', linewidth=3, linestyle='dashed', label='Threshold: {:0.3f}'.format(thresold))\n",
        "\n",
        "# Add legend and labels\n",
        "plt.legend(loc=\"upper right\")\n",
        "plt.title(\"Training Loss Distribution\")\n",
        "plt.xlabel(\"Loss\")\n",
        "plt.ylabel(\"Frequency\")\n",
        "\n",
        "# Show the plot\n",
        "plt.show()"
      ],
      "metadata": {
        "colab": {
          "base_uri": "https://localhost:8080/",
          "height": 718
        },
        "id": "pje0YPB0eMXD",
        "outputId": "d541c2cf-fb54-472e-f291-8434edf69304"
      },
      "execution_count": 122,
      "outputs": [
        {
          "output_type": "display_data",
          "data": {
            "text/plain": [
              "<Figure size 1000x800 with 1 Axes>"
            ],
            "image/png": "[encoded data removed]"
          },
          "metadata": {}
        }
      ]
    },
    {
      "cell_type": "code",
      "source": [
        "np.mean(train_loss_a)"
      ],
      "metadata": {
        "colab": {
          "base_uri": "https://localhost:8080/"
        },
        "id": "2W5_mRRUdGsK",
        "outputId": "219d1d73-9718-43ac-a925-724fb8750037"
      },
      "execution_count": 123,
      "outputs": [
        {
          "output_type": "execute_result",
          "data": {
            "text/plain": [
              "0.08100145389664967"
            ]
          },
          "metadata": {},
          "execution_count": 123
        }
      ]
    },
    {
      "cell_type": "code",
      "source": [
        "np.std(train_loss_a)"
      ],
      "metadata": {
        "colab": {
          "base_uri": "https://localhost:8080/"
        },
        "id": "hfA769kIdJvJ",
        "outputId": "bf382351-51eb-480a-dfac-e6565111639c"
      },
      "execution_count": 124,
      "outputs": [
        {
          "output_type": "execute_result",
          "data": {
            "text/plain": [
              "0.0166669219692039"
            ]
          },
          "metadata": {},
          "execution_count": 124
        }
      ]
    },
    {
      "cell_type": "code",
      "source": [
        "thresold_a=np.mean(train_loss_a)+2*np.std(train_loss_a)"
      ],
      "metadata": {
        "id": "44MmRWccdwTx"
      },
      "execution_count": 125,
      "outputs": []
    },
    {
      "cell_type": "code",
      "source": [
        "thresold_a"
      ],
      "metadata": {
        "colab": {
          "base_uri": "https://localhost:8080/"
        },
        "id": "Lpb5BrKPd2n6",
        "outputId": "4f5d8214-0a87-4152-fce6-ececa77bbd2e"
      },
      "execution_count": 126,
      "outputs": [
        {
          "output_type": "execute_result",
          "data": {
            "text/plain": [
              "0.11433529783505747"
            ]
          },
          "metadata": {},
          "execution_count": 126
        }
      ]
    },
    {
      "cell_type": "code",
      "source": [
        "preds=tf.math.less(train_loss,thresold)"
      ],
      "metadata": {
        "id": "7QUlzj8hci7S"
      },
      "execution_count": 127,
      "outputs": []
    },
    {
      "cell_type": "code",
      "source": [
        "tf.math.count_nonzero(preds)"
      ],
      "metadata": {
        "colab": {
          "base_uri": "https://localhost:8080/"
        },
        "id": "MKAtkikicxMS",
        "outputId": "2d1122d9-4f07-489b-b80e-76208a632451"
      },
      "execution_count": 128,
      "outputs": [
        {
          "output_type": "execute_result",
          "data": {
            "text/plain": [
              "<tf.Tensor: shape=(), dtype=int64, numpy=543>"
            ]
          },
          "metadata": {},
          "execution_count": 128
        }
      ]
    },
    {
      "cell_type": "code",
      "source": [
        "preds.shape"
      ],
      "metadata": {
        "colab": {
          "base_uri": "https://localhost:8080/"
        },
        "id": "L5YOLRYecrYC",
        "outputId": "b31f0233-abb3-48bb-c8a1-bfaf3829dfda"
      },
      "execution_count": 129,
      "outputs": [
        {
          "output_type": "execute_result",
          "data": {
            "text/plain": [
              "TensorShape([563])"
            ]
          },
          "metadata": {},
          "execution_count": 129
        }
      ]
    },
    {
      "cell_type": "code",
      "source": [
        "preds_a=tf.math.greater(train_loss_a,thresold)"
      ],
      "metadata": {
        "id": "38HvYxRcempp"
      },
      "execution_count": 133,
      "outputs": []
    },
    {
      "cell_type": "code",
      "source": [
        "tf.math.count_nonzero(preds_a)"
      ],
      "metadata": {
        "colab": {
          "base_uri": "https://localhost:8080/"
        },
        "id": "U-JIpfyGeuHg",
        "outputId": "076b7e42-8227-4662-fdae-677404de0a08"
      },
      "execution_count": 134,
      "outputs": [
        {
          "output_type": "execute_result",
          "data": {
            "text/plain": [
              "<tf.Tensor: shape=(), dtype=int64, numpy=434>"
            ]
          },
          "metadata": {},
          "execution_count": 134
        }
      ]
    },
    {
      "cell_type": "code",
      "source": [
        "preds_a.shape"
      ],
      "metadata": {
        "colab": {
          "base_uri": "https://localhost:8080/"
        },
        "id": "XQDcdeJVeyLQ",
        "outputId": "409f0cd1-ee7f-4369-8d30-ffde8659824d"
      },
      "execution_count": 132,
      "outputs": [
        {
          "output_type": "execute_result",
          "data": {
            "text/plain": [
              "TensorShape([563])"
            ]
          },
          "metadata": {},
          "execution_count": 132
        }
      ]
    }
  ]
}